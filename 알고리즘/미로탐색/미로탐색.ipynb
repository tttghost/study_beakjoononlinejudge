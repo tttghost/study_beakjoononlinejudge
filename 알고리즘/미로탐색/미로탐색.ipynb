{
 "cells": [
  {
   "cell_type": "code",
   "execution_count": null,
   "metadata": {},
   "outputs": [],
   "source": [
    "X,Y=map(int,input().split())\n",
    "maze=[[s for s in input()] for _ in range(X)]"
   ]
  },
  {
   "cell_type": "code",
   "execution_count": null,
   "metadata": {
    "metadata": {}
   },
   "outputs": [],
   "source": [
    "with open('input.txt') as file:\n",
    "     lines=file.readlines()\n",
    "     X,Y=map(int,lines[0].split())\n",
    "     maze=[[s for s in row.rstrip()] for row in lines[1:]]\n",
    "     file.close()\n"
   ]
  },
  {
   "cell_type": "code",
   "execution_count": null,
   "metadata": {
    "metadata": {}
   },
   "outputs": [],
   "source": [
    "directions=[[-1,0],[1,0],[0,-1],[0,1]]\n",
    "\n",
    "player=[0,0]\n",
    "end=[X-1,Y-1]\n",
    "stack=[player[:]]\n",
    "\n",
    "cnt=1\n",
    "\n",
    "isPossible=True\n",
    "\n",
    "while player!=end:\n",
    "    find=False\n",
    "    for d in directions:\n",
    "        nextPos=[player[0]+d[0],player[1]+d[1]]\n",
    "        #갈수 없는 영역 체크\n",
    "        if nextPos[0]<0 or end[0]<nextPos[0] or nextPos[1]<0 or end[1]<nextPos[1]: \n",
    "            continue\n",
    "        #갈수없는 조건: 1.스택있을때 이전에 왔던길이었다면\n",
    "        if stack and nextPos in stack: \n",
    "            continue\n",
    "\n",
    "        if maze[nextPos[0]][nextPos[1]]=='1':\n",
    "                stack.append(player[:])\n",
    "                player=nextPos[:]\n",
    "                cnt+=1\n",
    "                find=True\n",
    "                break\n",
    "\n",
    "    if not find:\n",
    "        if stack:\n",
    "            maze[player[0]][player[1]]='0'\n",
    "            prevPos=stack.pop()\n",
    "            player=prevPos[:]\n",
    "            cnt-=1\n",
    "        else:\n",
    "            isPossible=False\n",
    "            break\n",
    "\n",
    "print(cnt)"
   ]
  },
  {
   "cell_type": "code",
   "execution_count": 21,
   "metadata": {
    "metadata": {}
   },
   "outputs": [
    {
     "data": {
      "text/plain": [
       "11"
      ]
     },
     "execution_count": 21,
     "metadata": {},
     "output_type": "execute_result"
    }
   ],
   "source": [
    "#dfs back-tracking\n",
    "\n",
    "with open('input.txt') as file:\n",
    "     lines=file.readlines()\n",
    "     X,Y=map(int,lines[0].split())\n",
    "     maze=[[s for s in row.rstrip()] for row in lines[1:]]\n",
    "     file.close()\n",
    "\n",
    "# import sys\n",
    "# input=sys.stdin.readline\n",
    "# X,Y=map(int,input().split())\n",
    "# maze=[list(s for s in input()) for _ in range(X)]\n",
    "\n",
    "dx=[-1,1,0,0]\n",
    "dy=[0,0,-1,1]\n",
    "\n",
    "visited=[list([False]*Y) for _ in range(X)]\n",
    "visited[0][0]=True\n",
    "\n",
    "\n",
    "min_val=1e9\n",
    "def dfs(x,y,n):\n",
    "    global min_val\n",
    "    if x==X-1 and y==Y-1:\n",
    "        min_val=min(min_val,n)\n",
    "        return\n",
    "    for i in range(4):\n",
    "        nx,ny=x+dx[i],y+dy[i]\n",
    "        if nx<0 or X-1<nx or ny<0 or Y-1<ny: \n",
    "            continue\n",
    "        if maze[nx][ny]=='0':\n",
    "            continue\n",
    "        if visited[nx][ny]==True:\n",
    "            continue\n",
    "        visited[nx][ny]=True\n",
    "        dfs(nx,ny,n+1)\n",
    "        visited[nx][ny]=False\n",
    "\n",
    "dfs(0,0,1)\n",
    "min_val"
   ]
  }
 ],
 "metadata": {
  "kernelspec": {
   "display_name": "Python 3",
   "language": "python",
   "name": "python3"
  },
  "language_info": {
   "codemirror_mode": {
    "name": "ipython",
    "version": 3
   },
   "file_extension": ".py",
   "mimetype": "text/x-python",
   "name": "python",
   "nbconvert_exporter": "python",
   "pygments_lexer": "ipython3",
   "version": "3.12.2"
  }
 },
 "nbformat": 4,
 "nbformat_minor": 2
}
