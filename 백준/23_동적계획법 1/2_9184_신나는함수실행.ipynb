{
 "cells": [
  {
   "cell_type": "code",
   "execution_count": 41,
   "metadata": {},
   "outputs": [
    {
     "name": "stdout",
     "output_type": "stream",
     "text": [
      "w(1, 1, 1) = 2\n",
      "w(2, 3, 4) = 4\n"
     ]
    }
   ],
   "source": [
    "memo={}\n",
    "\n",
    "def w(a,b,c):\n",
    "    if a<= 0 or b<= 0 or c<=0:\n",
    "        return 1\n",
    "    if a>20 or b>20 or c>20:\n",
    "        return w(20,20,20)\n",
    "    if (a,b,c) in memo:\n",
    "        return memo[(a,b,c)]\n",
    "    if a<b<c:\n",
    "        memo[(a,b,c)]=w(a,b,c-1) + w(a,b-1,c-1) - w(a,b-1,c)\n",
    "        return memo[(a,b,c)]\n",
    "    memo[(a,b,c)]=w(a-1, b, c) + w(a-1, b-1, c) + w(a-1, b, c-1) - w(a-1, b-1, c-1)\n",
    "    return memo[(a,b,c)]\n",
    "\n",
    "while True:\n",
    "    a,b,c=map(int,input().split())\n",
    "    if a==b==c==-1:\n",
    "        break\n",
    "    print(f'w({a}, {b}, {c}) = {w(a,b,c)}')"
   ]
  }
 ],
 "metadata": {
  "kernelspec": {
   "display_name": "Python 3",
   "language": "python",
   "name": "python3"
  },
  "language_info": {
   "codemirror_mode": {
    "name": "ipython",
    "version": 3
   },
   "file_extension": ".py",
   "mimetype": "text/x-python",
   "name": "python",
   "nbconvert_exporter": "python",
   "pygments_lexer": "ipython3",
   "version": "3.12.2"
  }
 },
 "nbformat": 4,
 "nbformat_minor": 2
}
