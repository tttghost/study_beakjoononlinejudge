{
 "cells": [
  {
   "cell_type": "code",
   "execution_count": 72,
   "metadata": {},
   "outputs": [
    {
     "name": "stdout",
     "output_type": "stream",
     "text": [
      "89207240240093898472018404112\n"
     ]
    }
   ],
   "source": [
    "#점화식(=누적합?)에 대해 좀더 깊이 생각해보자...\n",
    "\n",
    "N=int(input())\n",
    "result=[[0,1,1,1,1,1,1,1,1,1]]\n",
    "\n",
    "for j in range(1,N):\n",
    "    result.append([0]*10)\n",
    "    for i in range(10):\n",
    "        if i==0:\n",
    "            result[j][i]=result[j-1][i+1]\n",
    "        elif 1<=i<=8:\n",
    "            if j==1 and i==1:\n",
    "                result[j][i]=result[j-1][i+1]\n",
    "            else:\n",
    "                result[j][i]=result[j-1][i-1]+result[j-1][i+1]\n",
    "        elif i==9:\n",
    "            result[j][i]=result[j-1][i-1]\n",
    "\n",
    "print(sum(result[N-1])%1000000000)"
   ]
  }
 ],
 "metadata": {
  "kernelspec": {
   "display_name": "Python 3",
   "language": "python",
   "name": "python3"
  },
  "language_info": {
   "codemirror_mode": {
    "name": "ipython",
    "version": 3
   },
   "file_extension": ".py",
   "mimetype": "text/x-python",
   "name": "python",
   "nbconvert_exporter": "python",
   "pygments_lexer": "ipython3",
   "version": "3.12.2"
  }
 },
 "nbformat": 4,
 "nbformat_minor": 2
}
