{
 "cells": [
  {
   "cell_type": "code",
   "execution_count": 1,
   "metadata": {},
   "outputs": [],
   "source": [
    "#input\n",
    "import sys\n",
    "# input=sys.stdin.readline\n",
    "\n",
    "n=int(input())\n",
    "li=list(map(int,input().split()))\n"
   ]
  },
  {
   "cell_type": "code",
   "execution_count": 47,
   "metadata": {},
   "outputs": [],
   "source": [
    "#open text\n",
    "with open('5_input.txt') as file:\n",
    "    data=file.readlines()\n",
    "    n=int(data[0])\n",
    "    li=list(map(int,data[1].split()))\n",
    "    \n"
   ]
  },
  {
   "cell_type": "code",
   "execution_count": null,
   "metadata": {},
   "outputs": [],
   "source": [
    "#시간복잡도 n^2으로 푼 문제다. 모든 경우의수 다 따졌음\n",
    "\n",
    "max_value=-1e9-1\n",
    "for i in range(1,n):\n",
    "    for j in range(n-i):\n",
    "        max_value=max(sum(li[j:j+i]),max_value)\n",
    "\n",
    "print(max_value)\n"
   ]
  },
  {
   "cell_type": "code",
   "execution_count": null,
   "metadata": {},
   "outputs": [],
   "source": [
    "#질문게시판 참조, 이런식으로 리스트 하나로도 풀 수 있다.\n",
    "\n",
    "arr = list(map(int, input().split()))\n",
    "\n",
    "for i in range(1, int(input())):\n",
    "    arr[i] = max(arr[i], arr[i] + arr[i - 1])\n",
    "\n",
    "print(max(arr))"
   ]
  },
  {
   "cell_type": "code",
   "execution_count": 51,
   "metadata": {},
   "outputs": [
    {
     "name": "stdout",
     "output_type": "stream",
     "text": [
      "33\n"
     ]
    }
   ],
   "source": [
    "#참조한 글을 보고 내 식대로 다시 변형하였다. 동적계획이란 말 그대로 계획을 세워야 된다.\n",
    "dp,max_value=0,-1e9-1\n",
    "for i in range(n):\n",
    "    max_value=max(max_value,dp:=max(li[i],dp+li[i]))\n",
    "print(max_value)\n",
    "\n"
   ]
  }
 ],
 "metadata": {
  "kernelspec": {
   "display_name": "Python 3",
   "language": "python",
   "name": "python3"
  },
  "language_info": {
   "codemirror_mode": {
    "name": "ipython",
    "version": 3
   },
   "file_extension": ".py",
   "mimetype": "text/x-python",
   "name": "python",
   "nbconvert_exporter": "python",
   "pygments_lexer": "ipython3",
   "version": "3.12.2"
  }
 },
 "nbformat": 4,
 "nbformat_minor": 2
}
