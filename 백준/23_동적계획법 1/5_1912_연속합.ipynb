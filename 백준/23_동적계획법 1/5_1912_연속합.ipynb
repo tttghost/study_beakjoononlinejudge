{
 "cells": [
  {
   "cell_type": "code",
   "execution_count": 1,
   "metadata": {},
   "outputs": [],
   "source": [
    "import sys\n",
    "# input=sys.stdin.readline\n",
    "\n",
    "n=int(input())\n",
    "li=list(map(int,input().split()))\n"
   ]
  },
  {
   "cell_type": "code",
   "execution_count": 27,
   "metadata": {},
   "outputs": [],
   "source": [
    "with open('5_input.txt') as file:\n",
    "    data=file.readlines()\n",
    "    n=int(data[0])\n",
    "    li=list(map(int,data[1].split()))\n",
    "    \n"
   ]
  },
  {
   "cell_type": "code",
   "execution_count": 15,
   "metadata": {},
   "outputs": [
    {
     "name": "stdout",
     "output_type": "stream",
     "text": [
      "14\n"
     ]
    }
   ],
   "source": [
    "#시간복잡도 n^2으로 푼 문제다. 모든 경우의수 다 따졌음\n",
    "\n",
    "max_value=-1e9-1\n",
    "for i in range(1,n):\n",
    "    for j in range(n-i):\n",
    "        max_value=max(sum(li[j:j+i]),max_value)\n",
    "\n",
    "print(max_value)\n"
   ]
  },
  {
   "cell_type": "code",
   "execution_count": 29,
   "metadata": {},
   "outputs": [
    {
     "name": "stdout",
     "output_type": "stream",
     "text": [
      "33\n"
     ]
    }
   ],
   "source": [
    "#질문하기 게시판 보고 해보는 코드\n",
    "#이 경우는 시간복잡도 n으로 끝낼 수 있다. 기존 합한 내용을 축적해서 0보다 큰지 체크하면 되기 때문에\n",
    "#사이의 합에 대한 계산을 할땐 연속합! 을 알아두자...!!\n",
    "\n",
    "max_value=-1e9-1\n",
    "dp=0\n",
    "for i in range(n):\n",
    "    if dp<0:\n",
    "        dp=li[i]\n",
    "    else:\n",
    "        dp+=li[i]\n",
    "    max_value=max(dp,max_value)\n",
    "\n",
    "print(max_value)\n",
    "\n"
   ]
  }
 ],
 "metadata": {
  "kernelspec": {
   "display_name": "Python 3",
   "language": "python",
   "name": "python3"
  },
  "language_info": {
   "codemirror_mode": {
    "name": "ipython",
    "version": 3
   },
   "file_extension": ".py",
   "mimetype": "text/x-python",
   "name": "python",
   "nbconvert_exporter": "python",
   "pygments_lexer": "ipython3",
   "version": "3.12.2"
  }
 },
 "nbformat": 4,
 "nbformat_minor": 2
}
