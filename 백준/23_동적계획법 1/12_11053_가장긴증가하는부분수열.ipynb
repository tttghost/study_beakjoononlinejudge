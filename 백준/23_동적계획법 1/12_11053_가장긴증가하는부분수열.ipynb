{
 "cells": [
  {
   "cell_type": "code",
   "execution_count": 114,
   "metadata": {},
   "outputs": [
    {
     "name": "stdout",
     "output_type": "stream",
     "text": [
      "6\n"
     ]
    }
   ],
   "source": [
    "data='''\n",
    "\n",
    "9\n",
    "5 10 50 60 70 20 30 40 50\n",
    "\n",
    "'''.strip().split('\\n')\n",
    "idx=-1\n",
    "def input():\n",
    "    global idx\n",
    "    idx+=1\n",
    "    return data[idx]\n",
    "\n",
    "\n",
    "N=int(input())\n",
    "A=list(map(int,input().split()))\n",
    "rs=[[1,A[0]]]\n",
    "\n",
    "for i in range(1,N):\n",
    "    maxCnt=0\n",
    "    for j in range(len(rs)-1,-1,-1):\n",
    "        if rs[j][1]<A[i]:\n",
    "            if maxCnt < rs[j][0]:\n",
    "                maxCnt=rs[j][0]\n",
    "\n",
    "    if maxCnt:\n",
    "        rs.append([maxCnt+1,A[i]])\n",
    "    else:\n",
    "        rs.append([1,A[i]])\n",
    "print(max(cnt for i,(cnt,val) in enumerate(rs)))"
   ]
  },
  {
   "cell_type": "code",
   "execution_count": 116,
   "metadata": {},
   "outputs": [
    {
     "name": "stdout",
     "output_type": "stream",
     "text": [
      "8\n"
     ]
    }
   ],
   "source": [
    "#https://thingjin.tistory.com/entry/%EB%B0%B1%EC%A4%80-11053%EB%B2%88-%EA%B0%80%EC%9E%A5-%EA%B8%B4-%EC%A6%9D%EA%B0%80%ED%95%98%EB%8A%94-%EB%B6%80%EB%B6%84-%EC%88%98%EC%97%B4-%ED%8C%8C%EC%9D%B4%EC%8D%AC\n",
    "idx=0\n",
    "def input():\n",
    "    global idx\n",
    "    ilne=data[idx]\n",
    "    idx+=1\n",
    "    return ilne\n",
    "\n",
    "data='''\n",
    "\n",
    "11\n",
    "100 1 2 3 101 4 5 6 102 7 8\n",
    "\n",
    "'''.strip().split('\\n')\n",
    "\n",
    "N=int(input())\n",
    "A=list(map(int,input().split()))\n",
    "\n",
    "dp=[1]*N\n",
    "\n",
    "for i in range(1,N):\n",
    "    for j in range(i):\n",
    "        if A[i]>A[j]:\n",
    "            dp[i]=max(dp[i],dp[j]+1)\n",
    "print(max(dp))            \n"
   ]
  },
  {
   "cell_type": "code",
   "execution_count": 97,
   "metadata": {},
   "outputs": [],
   "source": [
    "%reset -f"
   ]
  }
 ],
 "metadata": {
  "kernelspec": {
   "display_name": "Python 3",
   "language": "python",
   "name": "python3"
  },
  "language_info": {
   "codemirror_mode": {
    "name": "ipython",
    "version": 3
   },
   "file_extension": ".py",
   "mimetype": "text/x-python",
   "name": "python",
   "nbconvert_exporter": "python",
   "pygments_lexer": "ipython3",
   "version": "3.12.2"
  }
 },
 "nbformat": 4,
 "nbformat_minor": 2
}
