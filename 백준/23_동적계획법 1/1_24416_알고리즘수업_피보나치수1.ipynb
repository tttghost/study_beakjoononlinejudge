{
 "cells": [
  {
   "cell_type": "code",
   "execution_count": 83,
   "metadata": {},
   "outputs": [
    {
     "name": "stdout",
     "output_type": "stream",
     "text": [
      "832040 28\n"
     ]
    }
   ],
   "source": [
    "# 피보나치수열에서\n",
    "# 재귀함수(RecursionFunction, RF)(feat.메모이제이션), 동적프로그래밍(DynaminProgramming, DP)이란??\n",
    "\n",
    "cntRF=0 #Recursion Function 재귀 함수\n",
    "# 재귀함수는 Top-Down 방식이다.\n",
    "# RF방식 피보나치수열 호출스택은 cntRF가 n<3일때마다 호출된다. 곧 1씩 쌓일때마다 한번씩 호출된다. \n",
    "# == 피보나치수열의 값이 호출스택이다\n",
    "# 호출스택이 기하급수적으로 늘어날 수 밖에 없다.\n",
    "def fib_basic(n):\n",
    "    global cntRC\n",
    "    if n<3:\n",
    "        cntRC+=1\n",
    "        return 1\n",
    "    return fib_basic(n-1)+fib_basic(n-2) \n",
    "\n",
    "\n",
    "# 이런 문제점을 극복하기 위해 재귀함수에서 '메모이제이션'을 활용한다.\n",
    "# 메모이제이션이란 이미 Top-Down방식에서 계산한 적 있는 데이터를 메모리에 저장해 사용, 함수호출횟수를 줄이는 방식이다.\n",
    "memo={} # 이미 계산한 적 있는 메모리를 저장한다.\n",
    "def fib_memo(n):\n",
    "    if n in memo:\n",
    "        return memo[n]\n",
    "    if n<3:\n",
    "        return 1\n",
    "    memo[n]=fib_memo(n-1)+fib_memo(n-2) \n",
    "    return memo[n]\n",
    "\n",
    "# 반복문으로 다이나믹 프로그래밍 소스코드를 작성을 하면 값이 아래부터 차곡차곡 쌓인다.\n",
    "# 이러한 방식을 바텀업(Bottom-Up) 방식이라고 한다.\n",
    "# DP방식 피보나치수열의 호출스택은 n-2가 된다.\n",
    "cntDP=0 #Dynamic Programming 동적 프로그래밍\n",
    "def fibonacci(n):\n",
    "    global cntDP\n",
    "    f=[1,1]\n",
    "    for i in range(n-2):\n",
    "        # for문 호출이 3부터 1회씩 추가되기 때문에 n-2가 된다.\n",
    "        cntDP+=1\n",
    "        f.append(f[i-1]+f[i-2])\n",
    "    return f[-1]\n",
    "\n",
    "N=int(input())\n",
    "\n",
    "# a=fib_basic(N) # 기본 피보나치는 백준에서 시간초과가 나기 때문에 메모이제이션 피보나치의 리턴값을 활용한다.\n",
    "b=fib_memo(N) # 메모이제이션 피보나치 호출.\n",
    "c=fibonacci(N) # DP 피보나치의 for 호출스택을 가져온다. cntDP.\n",
    "\n",
    "print(b, cntDP)"
   ]
  },
  {
   "cell_type": "code",
   "execution_count": 1,
   "metadata": {},
   "outputs": [
    {
     "name": "stdout",
     "output_type": "stream",
     "text": [
      "5\n"
     ]
    }
   ],
   "source": [
    "#피보나치 반복문\n",
    "a = int(input())\n",
    "c,d=1,1\n",
    "for i in range(a-2):\n",
    "    c,d=d,c+d\n",
    "print(d)"
   ]
  }
 ],
 "metadata": {
  "kernelspec": {
   "display_name": "Python 3",
   "language": "python",
   "name": "python3"
  },
  "language_info": {
   "codemirror_mode": {
    "name": "ipython",
    "version": 3
   },
   "file_extension": ".py",
   "mimetype": "text/x-python",
   "name": "python",
   "nbconvert_exporter": "python",
   "pygments_lexer": "ipython3",
   "version": "3.12.2"
  }
 },
 "nbformat": 4,
 "nbformat_minor": 2
}
