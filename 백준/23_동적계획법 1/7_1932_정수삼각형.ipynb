{
 "cells": [
  {
   "cell_type": "code",
   "execution_count": 7,
   "metadata": {
    "metadata": {}
   },
   "outputs": [],
   "source": [
    "#인풋파일\n",
    "file='''5\n",
    "7\n",
    "3 8\n",
    "8 1 0\n",
    "2 7 4 4\n",
    "4 5 2 6 5'''.strip().split('\\n')\n",
    "\n",
    "N=int(file[0][0])\n",
    "tree=[list(map(int,data.split())) for data in file[1:]]"
   ]
  },
  {
   "cell_type": "code",
   "execution_count": 11,
   "metadata": {},
   "outputs": [],
   "source": [
    "import sys\n",
    "# input=sys.stdin.readline\n",
    "N=int(input())\n",
    "tree=[list(map(int,input().split())) for _ in range(N)]"
   ]
  },
  {
   "cell_type": "code",
   "execution_count": 8,
   "metadata": {},
   "outputs": [
    {
     "name": "stdout",
     "output_type": "stream",
     "text": [
      "30\n"
     ]
    }
   ],
   "source": [
    "#슬슬 동적계획법이 재미있어 진다.\n",
    "for j in range(1,len(tree)):\n",
    "    treeLen=len(tree[j])\n",
    "    for i in range(treeLen):\n",
    "        tree[j][i]+=max(tree[j-1][0 if i==0 else i-1], tree[j-1][i-1 if i== treeLen-1 else i])\n",
    "\n",
    "print(max(tree[-1]))"
   ]
  }
 ],
 "metadata": {
  "kernelspec": {
   "display_name": "Python 3",
   "language": "python",
   "name": "python3"
  },
  "language_info": {
   "codemirror_mode": {
    "name": "ipython",
    "version": 3
   },
   "file_extension": ".py",
   "mimetype": "text/x-python",
   "name": "python",
   "nbconvert_exporter": "python",
   "pygments_lexer": "ipython3",
   "version": "3.12.2"
  }
 },
 "nbformat": 4,
 "nbformat_minor": 2
}
