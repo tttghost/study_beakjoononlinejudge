{
 "cells": [
  {
   "cell_type": "code",
   "execution_count": 80,
   "metadata": {},
   "outputs": [
    {
     "name": "stdout",
     "output_type": "stream",
     "text": [
      "3\n",
      "16\n"
     ]
    }
   ],
   "source": [
    "import sys\n",
    "# input=sys.stdin.readline\n",
    "\n",
    "M=int(input())\n",
    "dp=[1,1,1,2,2]\n",
    "for _ in range(M):\n",
    "    N=int(input())\n",
    "    if N<len(dp): #이미 배열내에 속해있으면 for문 돌리지 않음\n",
    "        print(dp[N-1])\n",
    "    else:\n",
    "        for i in range(len(dp),N):\n",
    "            dp.append(dp[i-1]+dp[i-5])\n",
    "        print(dp[-1])"
   ]
  }
 ],
 "metadata": {
  "kernelspec": {
   "display_name": "Python 3",
   "language": "python",
   "name": "python3"
  },
  "language_info": {
   "codemirror_mode": {
    "name": "ipython",
    "version": 3
   },
   "file_extension": ".py",
   "mimetype": "text/x-python",
   "name": "python",
   "nbconvert_exporter": "python",
   "pygments_lexer": "ipython3",
   "version": "3.12.2"
  }
 },
 "nbformat": 4,
 "nbformat_minor": 2
}
