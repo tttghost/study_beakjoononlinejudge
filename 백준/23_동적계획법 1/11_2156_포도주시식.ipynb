{
 "cells": [
  {
   "cell_type": "code",
   "execution_count": null,
   "metadata": {},
   "outputs": [],
   "source": [
    "#문제분석\n",
    "'''포도주 잔 선택 모두 마셔야함->마신후 원래 자리로\n",
    "3잔연속 마실 수 없음\n",
    "최대로 많이 마실 수 있는 양'''\n",
    "\n",
    "data='''6\n",
    "100\n",
    "100\n",
    "0\n",
    "90\n",
    "100\n",
    "100'''.strip().split()\n",
    "idx=-1\n",
    "def input():\n",
    "    global idx\n",
    "    idx+=1\n",
    "    return data[idx]\n"
   ]
  },
  {
   "cell_type": "code",
   "execution_count": null,
   "metadata": {},
   "outputs": [],
   "source": [
    "#안마셨을 때 의 경우의 수도 체크해야함!!! dp0\n",
    "n=int(input())\n",
    "wine=[int(input()) for _ in range(n)]\n",
    "dp0=[0]*n\n",
    "dp1=[0]*n\n",
    "dp1[0]=wine[0]\n",
    "dp2=[0]*n\n",
    "for i in range(1,n):\n",
    "    dp0[i]=max(dp0[i-1],dp1[i-1],dp2[i-1]) #안마신건 와인에 더할 이유가 없음!!!\n",
    "    dp1[i]=wine[i]+ (0 if i-2<0 else max(dp0[i-2],dp1[i-2],dp2[i-2]))\n",
    "    dp2[i]=wine[i]+dp1[i-1]\n",
    "print(max(max(dp0),max(dp1),max(dp2)))"
   ]
  }
 ],
 "metadata": {
  "kernelspec": {
   "display_name": "Python 3",
   "language": "python",
   "name": "python3"
  },
  "language_info": {
   "codemirror_mode": {
    "name": "ipython",
    "version": 3
   },
   "file_extension": ".py",
   "mimetype": "text/x-python",
   "name": "python",
   "nbconvert_exporter": "python",
   "pygments_lexer": "ipython3",
   "version": "3.12.2"
  }
 },
 "nbformat": 4,
 "nbformat_minor": 2
}
