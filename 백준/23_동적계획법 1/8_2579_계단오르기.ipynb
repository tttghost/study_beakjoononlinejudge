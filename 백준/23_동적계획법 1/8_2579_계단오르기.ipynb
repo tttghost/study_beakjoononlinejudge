{
 "cells": [
  {
   "cell_type": "code",
   "execution_count": 11,
   "metadata": {
    "metadata": {}
   },
   "outputs": [],
   "source": [
    "#인풋파일\n",
    "file='''10\n",
    "7\n",
    "4\n",
    "2\n",
    "10\n",
    "3\n",
    "5\n",
    "2\n",
    "3\n",
    "9\n",
    "2'''.strip().split('\\n')\n",
    "\n",
    "N=int(file[0])\n",
    "stair=[int(data) for data in file[1:]]"
   ]
  },
  {
   "cell_type": "code",
   "execution_count": 14,
   "metadata": {},
   "outputs": [],
   "source": [
    "import sys\n",
    "# input=sys.stdin.readline\n",
    "N=int(input())\n",
    "stair=[int(input()) for _ in range(N)]"
   ]
  },
  {
   "cell_type": "code",
   "execution_count": 27,
   "metadata": {},
   "outputs": [
    {
     "name": "stdout",
     "output_type": "stream",
     "text": [
      "75\n"
     ]
    }
   ],
   "source": [
    "#슬슬 동적계획법이 재미있어 진다. #꽤 고민했지만 푼 문제, 수기로 적는 습관을 들이자\n",
    "stepOne=[]\n",
    "stepTwo=[]\n",
    "stepOne.append(stair[0])\n",
    "stepTwo.append(0)\n",
    "\n",
    "for i in range(1,N):\n",
    "    stepTwo.append(stair[i]+stepOne[-1])\n",
    "    stepOne.append(stair[i]+ (0 if i-2 <0 else max(stepOne[i-2], stepTwo[i-2])))\n",
    "\n",
    "print(max(stepOne[-1],stepTwo[-1]))"
   ]
  }
 ],
 "metadata": {
  "kernelspec": {
   "display_name": "Python 3",
   "language": "python",
   "name": "python3"
  },
  "language_info": {
   "codemirror_mode": {
    "name": "ipython",
    "version": 3
   },
   "file_extension": ".py",
   "mimetype": "text/x-python",
   "name": "python",
   "nbconvert_exporter": "python",
   "pygments_lexer": "ipython3",
   "version": "3.12.2"
  }
 },
 "nbformat": 4,
 "nbformat_minor": 2
}
