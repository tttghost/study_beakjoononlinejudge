{
 "cells": [
  {
   "cell_type": "code",
   "execution_count": 39,
   "metadata": {
    "metadata": {}
   },
   "outputs": [],
   "source": [
    "#인풋파일\n",
    "file='''\n",
    "\n",
    "4\n",
    "5 4 3\n",
    "1 1 2\n",
    "1 5 1\n",
    "5 3 2\n",
    "\n",
    "'''.strip().split('\\n')\n",
    "\n",
    "\n",
    "# 예제 3번에서 같은게 있음!!\n",
    "\n",
    "\n",
    "N=int(file[0][0])\n",
    "li=[list(map(int,data.split())) for data in file[1:]]\n"
   ]
  },
  {
   "cell_type": "code",
   "execution_count": null,
   "metadata": {},
   "outputs": [],
   "source": [
    "#첫번째 뻘짓... 전에 idx를 가지고 어쩌구 저쩌구 하려고 함\n",
    "# N=int(input())\n",
    "# li=[list(map(int,input().split())) for _ in range(N)]\n",
    "\n",
    "prevIdx=-1\n",
    "total=0\n",
    "\n",
    "for i in range(len(li)):\n",
    "    print(total)\n",
    "    minv=min(li[i])\n",
    "    mini=li[i].index(minv)\n",
    "    maxv=max(li[i])\n",
    "    maxi=li[i].index(maxv)\n",
    "    midi=3-mini-maxi\n",
    "    midv=li[i][midi]\n",
    "    if prevIdx == -1:\n",
    "       prevIdx = mini\n",
    "       total+=minv\n",
    "    else:\n",
    "        if prevIdx != mini:\n",
    "            prevIdx = mini\n",
    "            total+=minv\n",
    "        else:\n",
    "            prevIdx = midi\n",
    "            total+=midv\n",
    "print(total)"
   ]
  },
  {
   "cell_type": "code",
   "execution_count": 32,
   "metadata": {
    "metadata": {}
   },
   "outputs": [
    {
     "name": "stdout",
     "output_type": "stream",
     "text": [
      "8\n"
     ]
    }
   ],
   "source": [
    "#두번째 뻘짓... 정답이 나오는 경우가 있지만 이 역시도 실패\n",
    "# N=int(input())\n",
    "# li=[list(map(int,input().split())) for _ in range(N)]\n",
    "\n",
    "result=li[0]\n",
    "min_idx=[*range(0,3)]\n",
    "for j in range(1,len(li)):\n",
    "    for i in range(len(min_idx)):\n",
    "        if min_idx[i]==0:\n",
    "            min_idx[i]= 1 if li[j][1]<li[j][2] else 2\n",
    "        elif min_idx[i]==1:\n",
    "            min_idx[i]= 0 if li[j][0]<li[j][2] else 2\n",
    "        elif min_idx[i]==2:\n",
    "            min_idx[i]= 0 if li[j][0]<li[j][1] else 1\n",
    "        result[i]+=li[j][min_idx[i]]\n",
    "\n",
    "print(min(result))"
   ]
  },
  {
   "cell_type": "code",
   "execution_count": 40,
   "metadata": {},
   "outputs": [
    {
     "name": "stdout",
     "output_type": "stream",
     "text": [
      "7\n"
     ]
    }
   ],
   "source": [
    "#점화식으로 다시...\n",
    "for i in range(1,len(li)):\n",
    "    li[i][0]+=min(li[i-1][1],li[i-1][2])\n",
    "    li[i][1]+=min(li[i-1][0],li[i-1][2])\n",
    "    li[i][2]+=min(li[i-1][0],li[i-1][1])\n",
    "print(min(li[-1]))\n",
    "#이렇게 간단한 걸...\n",
    "#누적합으로 하는 방식을 잘 생각해보자."
   ]
  }
 ],
 "metadata": {
  "kernelspec": {
   "display_name": "Python 3",
   "language": "python",
   "name": "python3"
  },
  "language_info": {
   "codemirror_mode": {
    "name": "ipython",
    "version": 3
   },
   "file_extension": ".py",
   "mimetype": "text/x-python",
   "name": "python",
   "nbconvert_exporter": "python",
   "pygments_lexer": "ipython3",
   "version": "3.12.2"
  }
 },
 "nbformat": 4,
 "nbformat_minor": 2
}
