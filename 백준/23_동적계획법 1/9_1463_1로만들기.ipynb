{
 "cells": [
  {
   "cell_type": "code",
   "execution_count": 59,
   "metadata": {},
   "outputs": [
    {
     "name": "stdout",
     "output_type": "stream",
     "text": [
      "4\n"
     ]
    }
   ],
   "source": [
    "#실패\n",
    "import math\n",
    "\n",
    "\n",
    "N=int(input())\n",
    "cnt=0\n",
    "while N>1:\n",
    "    if N%3==0:\n",
    "        log=round(math.log(N,3))\n",
    "        if N==3**log:\n",
    "            cnt+=log\n",
    "            break\n",
    "        else:\n",
    "            N//=3\n",
    "            cnt+=1\n",
    "    elif N%2==0:\n",
    "        log=round(math.log(N,2))\n",
    "        if N==2**log:\n",
    "            cnt+=log\n",
    "            break\n",
    "        else:\n",
    "            N//=2\n",
    "            cnt+=1\n",
    "    else:\n",
    "        N-=1 \n",
    "        cnt+=1\n",
    "print(cnt)    \n",
    "    \n"
   ]
  },
  {
   "cell_type": "code",
   "execution_count": 131,
   "metadata": {},
   "outputs": [
    {
     "name": "stdout",
     "output_type": "stream",
     "text": [
      "2\n"
     ]
    }
   ],
   "source": [
    "#성공 정답\n",
    "N=int(input())\n",
    "memo=[0]*(N+1)\n",
    "for i in range(2,N+1):\n",
    "    memo[i]=memo[i-1]+1\n",
    "    if i%2==0:\n",
    "        memo[i]=min(memo[i],memo[i//2]+1)\n",
    "    if i%3==0:\n",
    "        memo[i]=min(memo[i],memo[i//3]+1)\n",
    "print(memo[N])"
   ]
  }
 ],
 "metadata": {
  "kernelspec": {
   "display_name": "Python 3",
   "language": "python",
   "name": "python3"
  },
  "language_info": {
   "codemirror_mode": {
    "name": "ipython",
    "version": 3
   },
   "file_extension": ".py",
   "mimetype": "text/x-python",
   "name": "python",
   "nbconvert_exporter": "python",
   "pygments_lexer": "ipython3",
   "version": "3.12.2"
  }
 },
 "nbformat": 4,
 "nbformat_minor": 2
}
