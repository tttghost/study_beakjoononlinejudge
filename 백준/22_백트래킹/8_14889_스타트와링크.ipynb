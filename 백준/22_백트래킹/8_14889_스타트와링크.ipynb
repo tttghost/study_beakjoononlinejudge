{
 "cells": [
  {
   "cell_type": "code",
   "execution_count": 12,
   "metadata": {},
   "outputs": [
    {
     "name": "stdout",
     "output_type": "stream",
     "text": [
      "0\n"
     ]
    }
   ],
   "source": [
    "#맨처음 풀이.... 실패...\n",
    "\n",
    "file=open('test.txt')\n",
    "N=int(file.readline())\n",
    "li=[]\n",
    "for i in range(N):\n",
    "    li.append(list(map(int,file.readline().split())))\n",
    "file.close()\n",
    "minVal=1e9\n",
    "chk=[[False]*N for _ in range(N)]\n",
    "\n",
    "switcher=0\n",
    "def dfs(x,val):\n",
    "    global cnt\n",
    "    global switcher\n",
    "    global minVal\n",
    "\n",
    "    if switcher>0 and switcher%2==0:\n",
    "        minVal=min(val,minVal)\n",
    "    if switcher==N:\n",
    "        return\n",
    "    \n",
    "    for y in range(N):\n",
    "        if x!=y and chk[x][y] == False:\n",
    "            synergy=li[x][y]+li[y][x]\n",
    "            if switcher % 2 == 0:\n",
    "                chk[x][y]=True\n",
    "                chk[y][x]=True\n",
    "                switcher+=1\n",
    "                dfs(x+1,val+synergy)\n",
    "                chk[x][y]=False\n",
    "                chk[y][x]=False\n",
    "                switcher-=1\n",
    "            else:\n",
    "                chk[x][y]=True\n",
    "                chk[y][x]=True\n",
    "                switcher+=1\n",
    "                dfs(x+1,abs(val-synergy))\n",
    "                chk[x][y]=False\n",
    "                chk[y][x]=False\n",
    "                switcher-=1\n",
    "dfs(0,0)\n",
    "print(minVal)"
   ]
  },
  {
   "cell_type": "code",
   "execution_count": 92,
   "metadata": {},
   "outputs": [
    {
     "name": "stdout",
     "output_type": "stream",
     "text": [
      "2\n"
     ]
    }
   ],
   "source": [
    "#일단 성공했지만 시간초과\n",
    "file=open('test.txt')\n",
    "input=file.readline\n",
    "\n",
    "N=int(input())\n",
    "li=[]\n",
    "for i in range(N):\n",
    "    li.append(list(map(int,input().split())))\n",
    "file.close()\n",
    "minVal=1e9\n",
    "\n",
    "chk=[False]*N\n",
    "\n",
    "idxs=[i for i in range(N)]\n",
    "result=[]\n",
    "\n",
    "teamStart=[]\n",
    "teamLink=[]\n",
    "\n",
    "def getMinVal(li_input,li_dummy,li_result,_chk,n):\n",
    "    if n==2:\n",
    "        if not sorted(li_dummy) in li_result:\n",
    "            li_result.append(list(li_dummy))\n",
    "        return \n",
    "    for i in range(len(li_input)):\n",
    "        if _chk[i] == False:\n",
    "            _chk[i]=True\n",
    "            li_dummy.append(li_input[i])\n",
    "            getMinVal(li_input,li_dummy,li_result,_chk,n+1)\n",
    "            li_dummy.pop()\n",
    "            _chk[i]=False\n",
    "\n",
    "\n",
    "\n",
    "\n",
    "def dfs(n):\n",
    "    global minVal\n",
    "    if n==N//2:\n",
    "        teamStart=list(set(result))\n",
    "        startList=[]\n",
    "        startDummy=[]\n",
    "\n",
    "        getMinVal(teamStart,startDummy,startList,[False]*N,0)\n",
    "        startVal=0\n",
    "        for i in startList:\n",
    "            startVal+=li[i[0]][i[1]]+li[i[1]][i[0]]\n",
    "\n",
    "        teamLink=list(set(idxs)-set(teamStart))\n",
    "        linkList=[]\n",
    "        linkDummy=[]\n",
    "\n",
    "        getMinVal(teamLink,linkDummy,linkList,[False]*N,0)\n",
    "        linkVal=0\n",
    "        for i in linkList:\n",
    "            linkVal+=li[i[0]][i[1]]+li[i[1]][i[0]]\n",
    "        newVal=abs(startVal-linkVal)\n",
    "        if newVal<minVal:\n",
    "            minVal=newVal\n",
    "        return\n",
    "    \n",
    "    for i in range(N):\n",
    "        if chk[i] == False:\n",
    "            chk[i]=True\n",
    "            result.append(i)\n",
    "            dfs(n+1)\n",
    "            result.pop()\n",
    "            chk[i]=False\n",
    "dfs(0)\n",
    "print(minVal)\n"
   ]
  },
  {
   "cell_type": "code",
   "execution_count": 20,
   "metadata": {},
   "outputs": [
    {
     "name": "stdout",
     "output_type": "stream",
     "text": [
      "1\n"
     ]
    }
   ],
   "source": [
    "#나름제일 완벽한 답안\n",
    "with open('test.txt') as file:\n",
    "    input=file.readline\n",
    "    N=int(input())\n",
    "    li=[list(map(int,input().split())) for i in range(N)]\n",
    "\n",
    "minVal=1e9\n",
    "\n",
    "visited=[False]*N\n",
    "P=N//2\n",
    "\n",
    "def dfs(n,start):\n",
    "    global minVal\n",
    "    if minVal==0:\n",
    "        return\n",
    "    \n",
    "    if n==P:\n",
    "        startTeam,linkTeam=0,0\n",
    "        for i in range(N-1):\n",
    "            for j in range(i,N):\n",
    "                if i==j:\n",
    "                    continue\n",
    "                if visited[i] and visited[j]:\n",
    "                    startTeam+=li[i][j]+li[j][i]\n",
    "                elif not visited[i] and not visited[j]:\n",
    "                    linkTeam+=li[i][j]+li[j][i]\n",
    "        minVal=min(abs(startTeam-linkTeam),minVal)\n",
    "        return\n",
    "    \n",
    "    for i in range(start,N):\n",
    "        if not visited[i]:\n",
    "            visited[i]=True\n",
    "            dfs(n+1,i+1) #여기서 i를 인자로 넘겨주는게 진짜진짜 진짜 중요하다!!!\n",
    "            visited[i]=False\n",
    "dfs(0,0)\n",
    "print(minVal)\n"
   ]
  },
  {
   "cell_type": "code",
   "execution_count": 36,
   "metadata": {},
   "outputs": [
    {
     "name": "stdout",
     "output_type": "stream",
     "text": [
      "[True, True, True, False, False]\n",
      "[True, True, False, True, False]\n",
      "[True, True, False, False, True]\n",
      "[True, False, True, True, False]\n",
      "[True, False, True, False, True]\n",
      "[True, False, False, True, True]\n",
      "[False, True, True, True, False]\n",
      "[False, True, True, False, True]\n",
      "[False, True, False, True, True]\n",
      "[False, False, True, True, True]\n"
     ]
    }
   ],
   "source": [
    "#꼭 연마해두기 1\n",
    "N=5\n",
    "li=[_+1 for _ in range(N)]\n",
    "chk=[False]*N\n",
    "\n",
    "def dfs(n,idx):\n",
    "    if n==3:\n",
    "        print(chk)\n",
    "        return\n",
    "    for i in range(idx, N):\n",
    "        if not chk[i]:\n",
    "            chk[i]=True\n",
    "            dfs(n+1,i+1) # 꼭 현재 idx를 넘겨주어야 앞에것들을 실행하지 않는다!!\n",
    "            chk[i]=False\n",
    "\n",
    "dfs(0,0)            "
   ]
  },
  {
   "cell_type": "code",
   "execution_count": 37,
   "metadata": {},
   "outputs": [
    {
     "name": "stdout",
     "output_type": "stream",
     "text": [
      "[1, 2, 3]\n",
      "[1, 2, 4]\n",
      "[1, 2, 5]\n",
      "[1, 3, 4]\n",
      "[1, 3, 5]\n",
      "[1, 4, 5]\n",
      "[2, 3, 4]\n",
      "[2, 3, 5]\n",
      "[2, 4, 5]\n",
      "[3, 4, 5]\n"
     ]
    }
   ],
   "source": [
    "#꼭 연마해두기 2\n",
    "N=5\n",
    "li=[_+1 for _ in range(N)]\n",
    "chk=[False]*N\n",
    "result=[]\n",
    "\n",
    "def dfs(n,idx):\n",
    "    if n==3:\n",
    "        print(result)\n",
    "        return\n",
    "    for i in range(idx, N):\n",
    "        if not chk[i]:\n",
    "            chk[i]=True\n",
    "            result.append(li[i])\n",
    "            dfs(n+1,i+1) # 꼭 현재 idx를 넘겨주어야 앞에것들을 실행하지 않는다!!\n",
    "            result.pop()\n",
    "            chk[i]=False\n",
    "\n",
    "dfs(0,0)            "
   ]
  },
  {
   "cell_type": "code",
   "execution_count": null,
   "metadata": {},
   "outputs": [],
   "source": [
    "test"
   ]
  }
 ],
 "metadata": {
  "kernelspec": {
   "display_name": "Python 3",
   "language": "python",
   "name": "python3"
  },
  "language_info": {
   "codemirror_mode": {
    "name": "ipython",
    "version": 3
   },
   "file_extension": ".py",
   "mimetype": "text/x-python",
   "name": "python",
   "nbconvert_exporter": "python",
   "pygments_lexer": "ipython3",
   "version": "3.12.2"
  }
 },
 "nbformat": 4,
 "nbformat_minor": 2
}
