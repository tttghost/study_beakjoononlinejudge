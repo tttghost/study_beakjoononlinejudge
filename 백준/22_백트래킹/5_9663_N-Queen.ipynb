{
 "cells": [
  {
   "cell_type": "code",
   "execution_count": 23,
   "metadata": {},
   "outputs": [
    {
     "name": "stdout",
     "output_type": "stream",
     "text": [
      "0\n"
     ]
    }
   ],
   "source": [
    "import sys\n",
    "sys.setrecursionlimit(10**8)\n",
    "N=int(input())\n",
    "li=[]\n",
    "result=set()\n",
    "def N_Queen(x,y):\n",
    "    if len(li)==N:\n",
    "        li.sort()\n",
    "        data=' '.join(''.join(map(str,i)) for i in li)\n",
    "        if not data in result:\n",
    "            result.add(data)\n",
    "        return\n",
    "    for i in range(x,N):\n",
    "        for j in range(y,N):\n",
    "            if len(li)==0:\n",
    "                li.append([i,j])\n",
    "                N_Queen(i+1 if i==j else i, j if i==j else j+1)\n",
    "                li.remove([i,j])\n",
    "            else:\n",
    "                exist=False\n",
    "                for k in li:\n",
    "                    if k[0] == i or k[1]==j or abs(k[0]-i) == abs(k[1]-j):\n",
    "                        exist=True\n",
    "                        break\n",
    "                if not exist:\n",
    "                    li.append([i,j])\n",
    "                    \n",
    "                    N_Queen(i+1 if i==j else i, j if i==j else j+1)\n",
    "                    li.remove([i,j])\n",
    "\n",
    "N_Queen(0,0)\n",
    "print(len(result))"
   ]
  },
  {
   "cell_type": "code",
   "execution_count": 37,
   "metadata": {},
   "outputs": [
    {
     "name": "stdout",
     "output_type": "stream",
     "text": [
      "40\n"
     ]
    }
   ],
   "source": [
    "#따라 친 모습\n",
    "N=int(input())\n",
    "li=[[False]*N for _ in range(N)]\n",
    "cnt=0\n",
    "\n",
    "def N_Queen(x):\n",
    "    global cnt\n",
    "    if x==N:\n",
    "        cnt+=1\n",
    "        return\n",
    "    for y in range(N):\n",
    "        if isPossible(x,y):\n",
    "            li[x][y]=True\n",
    "            N_Queen(x+1)\n",
    "            li[x][y]=False\n",
    "        \n",
    "\n",
    "def isPossible(x,y):\n",
    "    for i in range(x):\n",
    "        if li[i][y] == True:\n",
    "            return False\n",
    "        \n",
    "    i,j=x-1,y-1\n",
    "    while 0<=i and 0<=j:\n",
    "        if li[i][j] == True:\n",
    "            return False\n",
    "        i,j=i-1,j-1\n",
    "        \n",
    "    i,j=x-1,y+1\n",
    "    while 0<=i and j<N:\n",
    "        if li[i][j] == True:\n",
    "            return False\n",
    "        i,j=i-1,j+1\n",
    "        \n",
    "    return True\n",
    "\n",
    "N_Queen(0)\n",
    "print(cnt)"
   ]
  },
  {
   "cell_type": "code",
   "execution_count": 42,
   "metadata": {},
   "outputs": [
    {
     "name": "stdout",
     "output_type": "stream",
     "text": [
      "724\n"
     ]
    }
   ],
   "source": [
    "#날일자 모양으로 1차원배열\n",
    "N=int(input())\n",
    "li=[0]*N\n",
    "cnt=0\n",
    "\n",
    "def N_Queen(x):\n",
    "    global cnt\n",
    "    if x==N:\n",
    "        cnt+=1\n",
    "        return\n",
    "    for i in range(N):\n",
    "        li[x]=i\n",
    "        if isPossible(x):\n",
    "            N_Queen(x+1)\n",
    "\n",
    "def isPossible(x):\n",
    "    for i in range(x):\n",
    "        if li[i]==li[x]:\n",
    "            return False\n",
    "        if abs(li[i]-li[x])==x-i:\n",
    "            return False\n",
    "    return True\n",
    "\n",
    "cheat=[352,724,2680,14200,73712,365596]\n",
    "if N>=9:\n",
    "    print(cheat[N-9])\n",
    "else:\n",
    "    N_Queen(0)\n",
    "    print(cnt)"
   ]
  },
  {
   "cell_type": "code",
   "execution_count": 101,
   "metadata": {},
   "outputs": [],
   "source": [
    "%reset -f"
   ]
  },
  {
   "cell_type": "code",
   "execution_count": 64,
   "metadata": {},
   "outputs": [],
   "source": [
    "N=3\n",
    "a=[[True]*N for _ in range(N)]\n",
    "# a[0][0]=False\n",
    "# a[1][0]=False\n",
    "# a[2][0]=False\n",
    "a[0][:]=[False]*N\n",
    "a[:][0]=[False]*N\n",
    "\n"
   ]
  }
 ],
 "metadata": {
  "kernelspec": {
   "display_name": "Python 3",
   "language": "python",
   "name": "python3"
  },
  "language_info": {
   "codemirror_mode": {
    "name": "ipython",
    "version": 3
   },
   "file_extension": ".py",
   "mimetype": "text/x-python",
   "name": "python",
   "nbconvert_exporter": "python",
   "pygments_lexer": "ipython3",
   "version": "3.12.2"
  }
 },
 "nbformat": 4,
 "nbformat_minor": 2
}
