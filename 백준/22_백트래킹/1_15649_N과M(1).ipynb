{
 "cells": [
  {
   "cell_type": "code",
   "execution_count": null,
   "metadata": {},
   "outputs": [],
   "source": [
    "# 내가풀어본방식\n",
    "\n",
    "from collections import Counter\n",
    "\n",
    "\n",
    "N,M=map(int,input().split()) #N은 숫자 range, M은 수 개수\n",
    "set_li=set()\n",
    "result=[]\n",
    "for i in range(1,int(str(N)*M)+1):\n",
    "    s=str(i)\n",
    "    count=Counter(s)\n",
    "    maxCnt=max(count.values())\n",
    "    if (not maxCnt==1) or len(count)!=M:\n",
    "        continue\n",
    "    exist=False\n",
    "    for key in count.keys():\n",
    "        if not int(key) in range(1,N+1):\n",
    "            exist=True\n",
    "            break\n",
    "    if not exist:\n",
    "        result.append(i)\n",
    "print('\\n'.join(' '.join(str(row)) for row in result))"
   ]
  },
  {
   "cell_type": "code",
   "execution_count": 75,
   "metadata": {},
   "outputs": [
    {
     "name": "stdout",
     "output_type": "stream",
     "text": [
      "1 2\n",
      "1 3\n",
      "1 4\n",
      "2 1\n",
      "2 3\n",
      "2 4\n",
      "3 1\n",
      "3 2\n",
      "3 4\n",
      "4 1\n",
      "4 2\n",
      "4 3\n"
     ]
    }
   ],
   "source": [
    "#백트래킹 활용\n",
    "\n",
    "N, M = map(int, input().split())\n",
    "li = []\n",
    "result=[]\n",
    "def back_Tracking():\n",
    "    if len(li) == M:\n",
    "        result.append(' '.join(map(str, li)))\n",
    "    else:\n",
    "        for i in range(1,N+1):\n",
    "            if not i in li:\n",
    "                li.append(i)\n",
    "                back_Tracking()\n",
    "                li.remove(i)\n",
    "\n",
    "back_Tracking()\n",
    "print('\\n'.join(result))"
   ]
  }
 ],
 "metadata": {
  "kernelspec": {
   "display_name": "Python 3",
   "language": "python",
   "name": "python3"
  },
  "language_info": {
   "codemirror_mode": {
    "name": "ipython",
    "version": 3
   },
   "file_extension": ".py",
   "mimetype": "text/x-python",
   "name": "python",
   "nbconvert_exporter": "python",
   "pygments_lexer": "ipython3",
   "version": "3.12.2"
  }
 },
 "nbformat": 4,
 "nbformat_minor": 2
}
