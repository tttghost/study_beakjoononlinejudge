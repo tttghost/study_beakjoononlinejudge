{
 "cells": [
  {
   "cell_type": "code",
   "execution_count": null,
   "metadata": {},
   "outputs": [],
   "source": [
    "#1번문제에서 거의 안바꾼거\n",
    "\n",
    "def back_Tracking():\n",
    "    if len(li) == M:\n",
    "        # a=' '.join(map(str, li))\n",
    "        # b=a.split()\n",
    "        li.sort()\n",
    "        result.add(' '.join(map(str,li)))\n",
    "    else:\n",
    "        for i in range(1,N+1):\n",
    "            if not i in li:\n",
    "                li.append(i)\n",
    "                back_Tracking()\n",
    "                li.remove(i)\n",
    "\n",
    "N, M = map(int, input().split())\n",
    "li = []\n",
    "result=set()\n",
    "back_Tracking()\n",
    "\n",
    "result2=list(result)\n",
    "result2.sort()\n",
    "print('\\n'.join(result2))"
   ]
  },
  {
   "cell_type": "code",
   "execution_count": 42,
   "metadata": {},
   "outputs": [
    {
     "name": "stdout",
     "output_type": "stream",
     "text": [
      "1 2\n",
      "1 3\n",
      "1 4\n",
      "2 3\n",
      "2 4\n",
      "3 4\n"
     ]
    }
   ],
   "source": [
    "N, M = map(int, input().split())\n",
    "li = []\n",
    "result=[]\n",
    "\n",
    "def back_Tracking(start): # 24 했는데 구지 42 할필요 없기 때문에 start int변수 추가해줌\n",
    "    if len(li) == M:\n",
    "        result.append(' '.join(map(str,li)))\n",
    "        return\n",
    "\n",
    "    for i in range(start,N+1):\n",
    "        if not i in li:\n",
    "            li.append(i)\n",
    "            back_Tracking(i+1)\n",
    "            li.pop()\n",
    "\n",
    "back_Tracking(1)\n",
    "print('\\n'.join(result))"
   ]
  },
  {
   "cell_type": "code",
   "execution_count": 24,
   "metadata": {},
   "outputs": [
    {
     "data": {
      "text/plain": [
       "[1]"
      ]
     },
     "execution_count": 24,
     "metadata": {},
     "output_type": "execute_result"
    }
   ],
   "source": [
    "a=[2,1]\n",
    "a.remove(2)\n",
    "a"
   ]
  }
 ],
 "metadata": {
  "kernelspec": {
   "display_name": "Python 3",
   "language": "python",
   "name": "python3"
  },
  "language_info": {
   "codemirror_mode": {
    "name": "ipython",
    "version": 3
   },
   "file_extension": ".py",
   "mimetype": "text/x-python",
   "name": "python",
   "nbconvert_exporter": "python",
   "pygments_lexer": "ipython3",
   "version": "3.12.2"
  }
 },
 "nbformat": 4,
 "nbformat_minor": 2
}
