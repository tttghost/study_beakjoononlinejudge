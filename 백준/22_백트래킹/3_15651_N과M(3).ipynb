{
 "cells": [
  {
   "cell_type": "code",
   "execution_count": 7,
   "metadata": {},
   "outputs": [
    {
     "name": "stdout",
     "output_type": "stream",
     "text": [
      "1 1\n",
      "1 2\n",
      "1 3\n",
      "1 4\n",
      "2 1\n",
      "2 2\n",
      "2 3\n",
      "2 4\n",
      "3 1\n",
      "3 2\n",
      "3 3\n",
      "3 4\n",
      "4 1\n",
      "4 2\n",
      "4 3\n",
      "4 4\n"
     ]
    }
   ],
   "source": [
    "N,M=map(int,input().split())\n",
    "li=[]\n",
    "result=[]\n",
    "\n",
    "def back_tracking():\n",
    "    if len(li)==M:\n",
    "        result.append(' '.join(li))\n",
    "        return\n",
    "    for i in range(1, N+1):\n",
    "        li.append(str(i))\n",
    "        back_tracking()\n",
    "        li.pop()\n",
    " \n",
    "back_tracking()\n",
    "\n",
    "print('\\n'.join(result))"
   ]
  }
 ],
 "metadata": {
  "kernelspec": {
   "display_name": "Python 3",
   "language": "python",
   "name": "python3"
  },
  "language_info": {
   "codemirror_mode": {
    "name": "ipython",
    "version": 3
   },
   "file_extension": ".py",
   "mimetype": "text/x-python",
   "name": "python",
   "nbconvert_exporter": "python",
   "pygments_lexer": "ipython3",
   "version": "3.12.2"
  }
 },
 "nbformat": 4,
 "nbformat_minor": 2
}
