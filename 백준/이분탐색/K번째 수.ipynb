{
 "cells": [
  {
   "cell_type": "code",
   "execution_count": null,
   "metadata": {},
   "outputs": [],
   "source": [
    "#1차원적인 생각, 2중 for문\n",
    "\n",
    "def binary_search(arr,low,high):\n",
    "    if low>high:\n",
    "        return low\n",
    "    \n",
    "    mid=(low+high)//2\n",
    "    cnt=1\n",
    "    current=arr[0]\n",
    "\n",
    "    for i in range(1,N):\n",
    "        if arr[i]>current+mid:\n",
    "            cnt+=1\n",
    "            current=arr[i]\n",
    "\n",
    "    if cnt>=C:\n",
    "        return binary_search(arr, mid+1, high)\n",
    "    else:\n",
    "        return binary_search(arr, low, mid-1)\n",
    "    \n",
    "\n",
    "def solution():\n",
    "    initTestCase(0)\n",
    "    N=int(input())\n",
    "    k=int(input())\n",
    "    A=[row*col for col in range(1,N+1) for row in range(1,N+1)]\n",
    "\n",
    "    print(A)\n",
    "    A.sort()\n",
    "    print(A)\n",
    "    print(A.index(k))\n",
    "\n",
    "def solution2(array, commands):\n",
    "    return [sorted(array[i-1:j])[k-1] for i,j,k in commands]\n",
    "\n",
    "N=3\n",
    "K=6\n",
    "\n"
   ]
  },
  {
   "cell_type": "code",
   "execution_count": 48,
   "metadata": {},
   "outputs": [
    {
     "name": "stdout",
     "output_type": "stream",
     "text": [
      "9\n"
     ]
    }
   ],
   "source": [
    "#정답, 근데 어려움...\n",
    "\n",
    "def binary_search(K,N,low,high):\n",
    "    mid=(low+high)//2\n",
    "    if low>high:\n",
    "        return low\n",
    "    temp=0\n",
    "    for i in range(1,N+1):\n",
    "        temp+=min(mid//i,N) #이 부분이 핵심\n",
    "    \n",
    "    if temp>=K:\n",
    "        return binary_search(K,N,low,mid-1)\n",
    "    else:\n",
    "        return binary_search(K,N,mid+1,high)\n",
    "\n",
    "N=int(input())\n",
    "K=int(input())\n",
    "print(binary_search(K,N,1,K))"
   ]
  },
  {
   "cell_type": "code",
   "execution_count": null,
   "metadata": {},
   "outputs": [],
   "source": [
    "#region test-case\n",
    "\n",
    "file='''\n",
    "\n",
    "test-case\n",
    "\n",
    "'''.strip().split('\\n')\n",
    "idx=0\n",
    "\n",
    "def input():\n",
    "    global idx\n",
    "    line=file[idx]\n",
    "    idx+=1\n",
    "    return line\n",
    "\n",
    "def initTestCase():\n",
    "    global idx\n",
    "    idx=0\n",
    "    print('init test-case')\n",
    "\n",
    "#endregion"
   ]
  },
  {
   "cell_type": "code",
   "execution_count": 23,
   "metadata": {},
   "outputs": [],
   "source": [
    "#region test-case\n",
    "\n",
    "file=['''\n",
    "20\n",
    "12\n",
    "'''.strip().split('\\n'),\n",
    "'''\n",
    "100000\n",
    "12\n",
    "'''.strip().split('\\n')\n",
    "]\n",
    "\n",
    "\n",
    "\n",
    "idx=0\n",
    "case=0\n",
    "def input():\n",
    "    global idx\n",
    "    line=file[case][idx]\n",
    "    idx+=1\n",
    "    return line\n",
    "\n",
    "def initTestCase(_case):\n",
    "    global idx\n",
    "    global case\n",
    "    case=_case\n",
    "    idx=0\n",
    "    print('init test-case',_case)\n",
    "\n",
    "#endregion"
   ]
  }
 ],
 "metadata": {
  "kernelspec": {
   "display_name": "Python 3",
   "language": "python",
   "name": "python3"
  },
  "language_info": {
   "codemirror_mode": {
    "name": "ipython",
    "version": 3
   },
   "file_extension": ".py",
   "mimetype": "text/x-python",
   "name": "python",
   "nbconvert_exporter": "python",
   "pygments_lexer": "ipython3",
   "version": "3.12.2"
  }
 },
 "nbformat": 4,
 "nbformat_minor": 2
}
