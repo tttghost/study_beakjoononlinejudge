{
 "cells": [
  {
   "cell_type": "code",
   "execution_count": null,
   "metadata": {},
   "outputs": [],
   "source": [
    "#정답\n",
    "\n",
    "\n",
    "initTestCase()\n",
    "\n",
    "def binary_search_left_cable(arr,x,low,high): #목표치가 빠지고 최선의선택치가 새로 추가됨\n",
    "    if low>high: #이부분에서 다시 비교해서 빠져나감, 예술임\n",
    "        return -1\n",
    "    \n",
    "    mid=(low+high+1)//2 # 0으로 나눠주는 것 방지용 +1\n",
    "    cnt=0\n",
    "    for cable in arr:\n",
    "        cnt+=cable//mid  \n",
    "    if cnt>=x:\n",
    "        return max(mid,binary_search_left_cable(arr,x,mid+1,high)) #핵심부분\n",
    "    else:\n",
    "        return binary_search_left_cable(arr,x,low,mid-1)\n",
    "\n",
    "\n",
    "K,N=map(int,input().split())\n",
    "cables=[int(input()) for _ in range(K)]\n",
    "\n",
    "rs=binary_search_left_cable(cables,N,0,max(cables))\n",
    "print(rs)\n",
    "\n",
    "\n"
   ]
  },
  {
   "cell_type": "code",
   "execution_count": 139,
   "metadata": {},
   "outputs": [],
   "source": [
    "#region test-case\n",
    "\n",
    "file=[\n",
    "#     '''1 1\n",
    "# 1''',\n",
    "'''4 11\n",
    "802\n",
    "743\n",
    "457\n",
    "539''',\n",
    "]\n",
    "\n",
    "result=[200]\n",
    "\n",
    "\n",
    "\n",
    "def input():\n",
    "    global idx\n",
    "    line=lines[idx]\n",
    "    idx+=1\n",
    "    return line\n",
    "\n",
    "def initTestCase(case=0):\n",
    "\n",
    "    global lines\n",
    "    lines=file[case].strip().split('\\n')\n",
    "\n",
    "    global idx\n",
    "    idx=0\n",
    "\n",
    "    print(f'\\ninit test-case ({case+1}) answer: {result[case]}')\n",
    "\n",
    "#endregion"
   ]
  }
 ],
 "metadata": {
  "kernelspec": {
   "display_name": "Python 3",
   "language": "python",
   "name": "python3"
  },
  "language_info": {
   "codemirror_mode": {
    "name": "ipython",
    "version": 3
   },
   "file_extension": ".py",
   "mimetype": "text/x-python",
   "name": "python",
   "nbconvert_exporter": "python",
   "pygments_lexer": "ipython3",
   "version": "3.12.2"
  }
 },
 "nbformat": 4,
 "nbformat_minor": 2
}
