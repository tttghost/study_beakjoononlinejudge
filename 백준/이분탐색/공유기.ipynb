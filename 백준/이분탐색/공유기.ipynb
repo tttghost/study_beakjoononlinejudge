{
 "cells": [
  {
   "cell_type": "code",
   "execution_count": 220,
   "metadata": {},
   "outputs": [
    {
     "name": "stdout",
     "output_type": "stream",
     "text": [
      "init test-case 0\n",
      "7\n",
      "init test-case 1\n",
      "7\n",
      "init test-case 2\n",
      "3\n"
     ]
    }
   ],
   "source": [
    "def binary_search(arr,low,high):\n",
    "    if low>high:\n",
    "        return low\n",
    "    \n",
    "    mid=(low+high)//2\n",
    "    cnt=1\n",
    "    current=arr[0]\n",
    "\n",
    "    for i in range(1,N):\n",
    "        if arr[i]>current+mid:\n",
    "            cnt+=1\n",
    "            current=arr[i]\n",
    "\n",
    "    if cnt>=C:\n",
    "        return binary_search(arr, mid+1, high)\n",
    "    else:\n",
    "        return binary_search(arr, low, mid-1)\n",
    "    \n",
    "\n",
    "\n",
    "for i in range(3):\n",
    "    initTestCase(i)\n",
    "    N,C=map(int,input().split())\n",
    "    home=[int(input().rstrip()) for _ in range(N)]\n",
    "    home.sort()\n",
    "\n",
    "    low,high=1,home[-1]-home[0]\n",
    "    print(binary_search(home,low,high))\n",
    "\n",
    "\n"
   ]
  },
  {
   "cell_type": "code",
   "execution_count": 218,
   "metadata": {},
   "outputs": [],
   "source": [
    "#region test-case\n",
    "\n",
    "file=['''\n",
    "9 3\n",
    "1\n",
    "93\n",
    "94\n",
    "95\n",
    "96\n",
    "97\n",
    "98\n",
    "99 \n",
    "100\n",
    "'''.strip().split('\\n'),\n",
    "'''\n",
    "9 3\n",
    "1 \n",
    "2 \n",
    "3 \n",
    "4 \n",
    "5 \n",
    "6 \n",
    "7 \n",
    "8 \n",
    "100\n",
    "# '''.strip().split('\\n'),\n",
    "'''\n",
    "5 3\n",
    "1\n",
    "2\n",
    "8\n",
    "4\n",
    "9\n",
    "'''.strip().split('\\n')\n",
    "]\n",
    "\n",
    "\n",
    "\n",
    "idx=0\n",
    "case=0\n",
    "def input():\n",
    "    global idx\n",
    "    line=file[case][idx]\n",
    "    idx+=1\n",
    "    return line\n",
    "\n",
    "def initTestCase(_case=0):\n",
    "    global idx\n",
    "    global case\n",
    "    case=_case\n",
    "    idx=0\n",
    "    print('init test-case',_case)\n",
    "\n",
    "#endregion"
   ]
  },
  {
   "cell_type": "code",
   "execution_count": 83,
   "metadata": {},
   "outputs": [
    {
     "name": "stdout",
     "output_type": "stream",
     "text": [
      "0\n",
      "2\n",
      "4\n"
     ]
    }
   ],
   "source": [
    "print(binary_search승([1,2,4,8,9],1,0,4))\n",
    "print(binary_search승([1,2,4,8,9],5,0,4))\n",
    "print(binary_search승([1,2,4,8,9],9,0,4))\n",
    "# print(binary_search패([1,2,4,8,9],8,0,4))"
   ]
  }
 ],
 "metadata": {
  "kernelspec": {
   "display_name": "Python 3",
   "language": "python",
   "name": "python3"
  },
  "language_info": {
   "codemirror_mode": {
    "name": "ipython",
    "version": 3
   },
   "file_extension": ".py",
   "mimetype": "text/x-python",
   "name": "python",
   "nbconvert_exporter": "python",
   "pygments_lexer": "ipython3",
   "version": "3.12.2"
  }
 },
 "nbformat": 4,
 "nbformat_minor": 2
}
