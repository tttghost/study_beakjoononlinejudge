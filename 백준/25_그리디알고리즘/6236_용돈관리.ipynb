{
 "cells": [
  {
   "cell_type": "code",
   "execution_count": 7,
   "metadata": {},
   "outputs": [
    {
     "name": "stdout",
     "output_type": "stream",
     "text": [
      "\n",
      "init test-case (1) answer: 500\n",
      "================\n",
      "60\n"
     ]
    }
   ],
   "source": [
    "initTestCase()\n",
    "\n",
    "def binary_search(arr,M):\n",
    "    low,high=max(arr),sum(arr)\n",
    "    rs=0\n",
    "    while low<=high:\n",
    "        mid=(low+high)//2\n",
    "        money=mid\n",
    "        count=1\n",
    "        for i in arr:\n",
    "            if money<i:\n",
    "                money=mid\n",
    "                count+=1\n",
    "            money-=i\n",
    "        if count>M:# or mid<max(arr):#더씀,범위늘려\n",
    "            low=mid+1\n",
    "        else:# if count<=M: #더못씀,범위좁혀\n",
    "            rs=mid\n",
    "            high=mid-1\n",
    "    \n",
    "    return rs\n",
    "    \n",
    "\n",
    "\n",
    "N,M=map(int,input().split())\n",
    "expend=[int(input().strip()) for _ in range(N)]\n",
    "print(binary_search(expend,M))\n",
    "\n",
    "\n"
   ]
  },
  {
   "cell_type": "code",
   "execution_count": 4,
   "metadata": {},
   "outputs": [
    {
     "name": "stdout",
     "output_type": "stream",
     "text": [
      "\n",
      "init test-case (1) answer: 500\n",
      "================\n",
      "60\n"
     ]
    }
   ],
   "source": [
    "import sys\n",
    "initTestCase()\n",
    "\n",
    "n, m = map(int,input().split())\n",
    "money = []\n",
    "for i in range(n): #사용 금액 입력 받기\n",
    "    money.append(int(input()))\n",
    "\n",
    "start, end = max(money), sum(money)\n",
    "\n",
    "while start <= end: #매개변수 탐색\n",
    "    mid = (start + end) // 2 #인출 금액\n",
    "    charge = mid #인출 금액\n",
    "    count = 1\n",
    "    for i in money: \n",
    "        if charge - i < 0: #부족해서 다시 인출\n",
    "            count += 1\n",
    "            charge = mid\n",
    "        charge -= i #사용한 만큼 차감\n",
    "    if count > m: #인출 액수 증가 필요\n",
    "        start = mid + 1\n",
    "    else: #인출 액수 감소 필요\n",
    "        end = mid - 1\n",
    "print(mid)"
   ]
  },
  {
   "cell_type": "code",
   "execution_count": 1,
   "metadata": {},
   "outputs": [],
   "source": [
    "#region test-case\n",
    "%reset -f\n",
    "FILE=[\n",
    "'''\n",
    "3 3\n",
    "40\n",
    "60\n",
    "50\n",
    "''',\n",
    "]\n",
    "\n",
    "RESULT=[\n",
    "'''\n",
    "500\n",
    "''',\n",
    "]\n",
    "# 1) 1 2 3 4 5 - 15\n",
    "# 2) 6 7 - 13\n",
    "# 3) 8 9 - 17\n",
    "def input():\n",
    "    global IDX\n",
    "    LINE=LINES[IDX]\n",
    "    IDX+=1\n",
    "    return LINE\n",
    "\n",
    "def initTestCase(CASE=0):\n",
    "\n",
    "    global LINES\n",
    "    LINES=FILE[CASE].strip().split('\\n')\n",
    "\n",
    "    global IDX\n",
    "    IDX=0\n",
    "\n",
    "    print(f'\\ninit test-case ({CASE+1}) answer: {RESULT[CASE].strip()}')\n",
    "    print('================')\n",
    "#endregion"
   ]
  }
 ],
 "metadata": {
  "kernelspec": {
   "display_name": "Python 3",
   "language": "python",
   "name": "python3"
  },
  "language_info": {
   "codemirror_mode": {
    "name": "ipython",
    "version": 3
   },
   "file_extension": ".py",
   "mimetype": "text/x-python",
   "name": "python",
   "nbconvert_exporter": "python",
   "pygments_lexer": "ipython3",
   "version": "3.12.2"
  }
 },
 "nbformat": 4,
 "nbformat_minor": 2
}
