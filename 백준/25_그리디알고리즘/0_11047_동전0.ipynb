{
 "cells": [
  {
   "cell_type": "code",
   "execution_count": 30,
   "metadata": {},
   "outputs": [
    {
     "name": "stdout",
     "output_type": "stream",
     "text": [
      "\n",
      "init test-case (2) answer: 12\n",
      "================\n",
      "13\n"
     ]
    }
   ],
   "source": [
    "initTestCase(1)\n",
    "N,K=map(int,input().split())\n",
    "A=[int(input()) for _ in range(N)]\n",
    "money_cnt=0\n",
    "i=N-1\n",
    "while i!=-1:\n",
    "    if A[i]<=K:\n",
    "        temp=K//A[i]\n",
    "        money_cnt+=temp\n",
    "        K%=A[i]\n",
    "    else:\n",
    "        i-=1\n",
    "print(money_cnt)\n"
   ]
  },
  {
   "cell_type": "code",
   "execution_count": 29,
   "metadata": {},
   "outputs": [],
   "source": [
    "#region test-case\n",
    "%reset -f\n",
    "FILE=[\n",
    "'''\n",
    "10 4200\n",
    "1\n",
    "5\n",
    "10\n",
    "50\n",
    "100\n",
    "500\n",
    "1000\n",
    "5000\n",
    "10000\n",
    "50000\n",
    "''',\n",
    "'''\n",
    "10 4791\n",
    "1\n",
    "5\n",
    "10\n",
    "50\n",
    "100\n",
    "500\n",
    "1000\n",
    "5000\n",
    "10000\n",
    "50000\n",
    "'''\n",
    "]\n",
    "\n",
    "RESULT=[\n",
    "'''\n",
    "6\n",
    "''',\n",
    "'''\n",
    "12\n",
    "''']\n",
    "\n",
    "def input():\n",
    "    global IDX\n",
    "    LINE=LINES[IDX]\n",
    "    IDX+=1\n",
    "    return LINE\n",
    "\n",
    "def initTestCase(CASE=0):\n",
    "\n",
    "    global LINES\n",
    "    LINES=FILE[CASE].strip().split('\\n')\n",
    "\n",
    "    global IDX\n",
    "    IDX=0\n",
    "\n",
    "    print(f'\\ninit test-case ({CASE+1}) answer: {RESULT[CASE].strip()}')\n",
    "    print('================')\n",
    "#endregion"
   ]
  }
 ],
 "metadata": {
  "kernelspec": {
   "display_name": "Python 3",
   "language": "python",
   "name": "python3"
  },
  "language_info": {
   "codemirror_mode": {
    "name": "ipython",
    "version": 3
   },
   "file_extension": ".py",
   "mimetype": "text/x-python",
   "name": "python",
   "nbconvert_exporter": "python",
   "pygments_lexer": "ipython3",
   "version": "3.12.2"
  }
 },
 "nbformat": 4,
 "nbformat_minor": 2
}
