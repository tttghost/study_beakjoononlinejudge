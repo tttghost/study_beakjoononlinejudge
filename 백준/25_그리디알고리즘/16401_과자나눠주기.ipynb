{
 "cells": [
  {
   "cell_type": "code",
   "execution_count": 65,
   "metadata": {},
   "outputs": [
    {
     "name": "stdout",
     "output_type": "stream",
     "text": [
      "\n",
      "init test-case (3) answer: 1\n",
      "================\n",
      "3\n"
     ]
    }
   ],
   "source": [
    "\n",
    "def binary_search(arr,M):\n",
    "    low,high=1,max(arr)\n",
    "    rs=0\n",
    "    while low<=high:\n",
    "        mid=(low+high)//2\n",
    "        count=0\n",
    "        \n",
    "        for i in arr:\n",
    "            count+=(i//mid)\n",
    "        \n",
    "        if count>=M:\n",
    "            rs=mid\n",
    "            low=mid+1\n",
    "        else:\n",
    "            high=mid-1\n",
    "    \n",
    "    return rs\n",
    "    \n",
    "# for i in range(3):\n",
    "initTestCase(2)\n",
    "\n",
    "M,N=map(int,input().split())\n",
    "snack=list(map(int,input().split()))\n",
    "print(binary_search(snack,M))\n",
    "\n",
    "\n"
   ]
  },
  {
   "cell_type": "code",
   "execution_count": 64,
   "metadata": {},
   "outputs": [],
   "source": [
    "#region test-case\n",
    "%reset -f\n",
    "FILE=[\n",
    "'''\n",
    "3 10\n",
    "1 2 3 4 5 6 7 8 9 10\n",
    "''',\n",
    "'''\n",
    "3 2\n",
    "1 2\n",
    "''',\n",
    "'''\n",
    "5 4\n",
    "6 4 3 3\n",
    "''',\n",
    "]\n",
    "\n",
    "RESULT=[\n",
    "'''\n",
    "8\n",
    "''',\n",
    "'''\n",
    "0\n",
    "''',\n",
    "'''\n",
    "1\n",
    "''',\n",
    "]\n",
    "# 1) 1 2 3 4 5 - 15\n",
    "# 2) 6 7 - 13\n",
    "# 3) 8 9 - 17\n",
    "def input():\n",
    "    global IDX\n",
    "    LINE=LINES[IDX]\n",
    "    IDX+=1\n",
    "    return LINE\n",
    "\n",
    "def initTestCase(CASE=0):\n",
    "\n",
    "    global LINES\n",
    "    LINES=FILE[CASE].strip().split('\\n')\n",
    "\n",
    "    global IDX\n",
    "    IDX=0\n",
    "\n",
    "    print(f'\\ninit test-case ({CASE+1}) answer: {RESULT[CASE].strip()}')\n",
    "    print('================')\n",
    "#endregion"
   ]
  }
 ],
 "metadata": {
  "kernelspec": {
   "display_name": "Python 3",
   "language": "python",
   "name": "python3"
  },
  "language_info": {
   "codemirror_mode": {
    "name": "ipython",
    "version": 3
   },
   "file_extension": ".py",
   "mimetype": "text/x-python",
   "name": "python",
   "nbconvert_exporter": "python",
   "pygments_lexer": "ipython3",
   "version": "3.12.2"
  }
 },
 "nbformat": 4,
 "nbformat_minor": 2
}
