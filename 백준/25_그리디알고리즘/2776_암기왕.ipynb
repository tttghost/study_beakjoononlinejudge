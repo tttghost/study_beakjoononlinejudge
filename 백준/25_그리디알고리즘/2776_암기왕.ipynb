{
 "cells": [
  {
   "cell_type": "code",
   "execution_count": 2,
   "metadata": {},
   "outputs": [
    {
     "name": "stdout",
     "output_type": "stream",
     "text": [
      "\n",
      "init test-case (1) answer: 1\n",
      "1\n",
      "0\n",
      "0\n",
      "1\n",
      "================\n",
      "1\n",
      "1\n",
      "0\n",
      "0\n",
      "1\n"
     ]
    }
   ],
   "source": [
    "initTestCase()\n",
    "\n",
    "def binary_search(arr,x):\n",
    "    lo,hi=0,len(arr)-1\n",
    "    while lo<=hi:\n",
    "        mid=(lo+hi)//2\n",
    "        if arr[mid]==x:\n",
    "            return 1\n",
    "        if arr[mid]<x:\n",
    "            lo=mid+1\n",
    "        else:\n",
    "            hi=mid-1\n",
    "    return 0\n",
    "\n",
    "\n",
    "T=int(input())\n",
    "\n",
    "for _ in range(T):\n",
    "    case1=int(input())\n",
    "    note1=list(map(int,input().split()))\n",
    "    note1.sort()\n",
    "    case2=int(input())\n",
    "    note2=list(map(int,input().split()))\n",
    "    for i in range(case2):\n",
    "        print(binary_search(note1,note2[i]))\n",
    "\n"
   ]
  },
  {
   "cell_type": "code",
   "execution_count": 1,
   "metadata": {},
   "outputs": [],
   "source": [
    "#region test-case\n",
    "%reset -f\n",
    "FILE=[\n",
    "'''\n",
    "1\n",
    "5\n",
    "4 1 5 2 3\n",
    "5\n",
    "1 3 7 9 5\n",
    "''',\n",
    "]\n",
    "\n",
    "RESULT=[\n",
    "'''\n",
    "1\n",
    "1\n",
    "0\n",
    "0\n",
    "1\n",
    "''',\n",
    "]\n",
    "# 1) 1 2 3 4 5 - 15\n",
    "# 2) 6 7 - 13\n",
    "# 3) 8 9 - 17\n",
    "def input():\n",
    "    global IDX\n",
    "    LINE=LINES[IDX]\n",
    "    IDX+=1\n",
    "    return LINE\n",
    "\n",
    "def initTestCase(CASE=0):\n",
    "\n",
    "    global LINES\n",
    "    LINES=FILE[CASE].strip().split('\\n')\n",
    "\n",
    "    global IDX\n",
    "    IDX=0\n",
    "\n",
    "    print(f'\\ninit test-case ({CASE+1}) answer: {RESULT[CASE].strip()}')\n",
    "    print('================')\n",
    "#endregion"
   ]
  }
 ],
 "metadata": {
  "kernelspec": {
   "display_name": "Python 3",
   "language": "python",
   "name": "python3"
  },
  "language_info": {
   "codemirror_mode": {
    "name": "ipython",
    "version": 3
   },
   "file_extension": ".py",
   "mimetype": "text/x-python",
   "name": "python",
   "nbconvert_exporter": "python",
   "pygments_lexer": "ipython3",
   "version": "3.12.2"
  }
 },
 "nbformat": 4,
 "nbformat_minor": 2
}
