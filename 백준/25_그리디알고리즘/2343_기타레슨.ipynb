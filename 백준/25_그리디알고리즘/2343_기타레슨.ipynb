{
 "cells": [
  {
   "cell_type": "code",
   "execution_count": 91,
   "metadata": {},
   "outputs": [
    {
     "name": "stdout",
     "output_type": "stream",
     "text": [
      "\n",
      "init test-case (2) answer: 100\n",
      "================\n",
      "100\n"
     ]
    }
   ],
   "source": [
    "def binary_search(arr,x,lo,hi):\n",
    "    rs=0\n",
    "    while lo<=hi:\n",
    "        mid=(lo+hi)//2\n",
    "        cnt=1\n",
    "        total=0\n",
    "        for i in range(len(arr)):\n",
    "            if total+arr[i]>mid:\n",
    "                total=0\n",
    "                cnt+=1\n",
    "            total+=arr[i]\n",
    "        if cnt<=x: #개수가 적다->더 촘촘하게\n",
    "            rs=mid\n",
    "            hi=mid-1\n",
    "        else: #개수가 많다 -> 더 널널하게\n",
    "            lo=mid+1\n",
    "            \n",
    "    return rs\n",
    "\n",
    "\n",
    "# for _ in range(2):\n",
    "initTestCase(1)\n",
    "N,M=map(int,input().split())\n",
    "lecture=list(map(int,input().split()))\n",
    "\n",
    "rs=binary_search(lecture,M,max(lecture),sum(lecture))\n",
    "print(rs)\n"
   ]
  },
  {
   "cell_type": "code",
   "execution_count": 45,
   "metadata": {},
   "outputs": [],
   "source": [
    "#region test-case\n",
    "%reset -f\n",
    "FILE=[\n",
    "'''\n",
    "9 3\n",
    "1 2 3 4 5 6 7 8 9\n",
    "''',\n",
    "'''\n",
    "4 3\n",
    "99 1 99 1\n",
    "''',\n",
    "]\n",
    "\n",
    "RESULT=[\n",
    "'''\n",
    "17\n",
    "''',\n",
    "'''\n",
    "100\n",
    "''',\n",
    "]\n",
    "# 1) 1 2 3 4 5 - 15\n",
    "# 2) 6 7 - 13\n",
    "# 3) 8 9 - 17\n",
    "def input():\n",
    "    global IDX\n",
    "    LINE=LINES[IDX]\n",
    "    IDX+=1\n",
    "    return LINE\n",
    "\n",
    "def initTestCase(CASE=0):\n",
    "\n",
    "    global LINES\n",
    "    LINES=FILE[CASE].strip().split('\\n')\n",
    "\n",
    "    global IDX\n",
    "    IDX=0\n",
    "\n",
    "    print(f'\\ninit test-case ({CASE+1}) answer: {RESULT[CASE].strip()}')\n",
    "    print('================')\n",
    "#endregion"
   ]
  }
 ],
 "metadata": {
  "kernelspec": {
   "display_name": "Python 3",
   "language": "python",
   "name": "python3"
  },
  "language_info": {
   "codemirror_mode": {
    "name": "ipython",
    "version": 3
   },
   "file_extension": ".py",
   "mimetype": "text/x-python",
   "name": "python",
   "nbconvert_exporter": "python",
   "pygments_lexer": "ipython3",
   "version": "3.12.2"
  }
 },
 "nbformat": 4,
 "nbformat_minor": 2
}
