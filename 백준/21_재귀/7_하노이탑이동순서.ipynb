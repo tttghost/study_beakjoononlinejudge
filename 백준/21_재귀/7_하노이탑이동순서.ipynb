{
 "cells": [
  {
   "cell_type": "code",
   "execution_count": 94,
   "metadata": {},
   "outputs": [
    {
     "name": "stdout",
     "output_type": "stream",
     "text": [
      "7\n"
     ]
    }
   ],
   "source": [
    "def 하노이(n):\n",
    "    if n== 1:\n",
    "        return 1\n",
    "    else:\n",
    "       return 2*하노이(n-1)+1\n",
    "\n",
    "    \n",
    "print(하노이(3))\n"
   ]
  },
  {
   "cell_type": "code",
   "execution_count": 92,
   "metadata": {},
   "outputs": [
    {
     "name": "stdout",
     "output_type": "stream",
     "text": [
      "7\n",
      "1 3\n",
      "1 2\n",
      "3 2\n",
      "1 3\n",
      "2 1\n",
      "2 3\n",
      "1 3\n"
     ]
    }
   ],
   "source": [
    "def move(N, start, to):\n",
    "    li.append((start,to))\n",
    "\n",
    "def hanoi(N, start, to, via):\n",
    "    if N==1:\n",
    "        move(1,start,to)\n",
    "    else:\n",
    "        hanoi(N-1,start, via, to)\n",
    "        move(N,start,to)\n",
    "        hanoi(N-1,via, to, start)\n",
    "\n",
    "li=[]\n",
    "N=int(input())\n",
    "hanoi(N,'1','3','2')\n",
    "\n",
    "result='\\n'.join(' '.join(i) for i in li)\n",
    "print(f'{len(li)}\\n{result}')"
   ]
  },
  {
   "cell_type": "code",
   "execution_count": 8,
   "metadata": {},
   "outputs": [
    {
     "name": "stdout",
     "output_type": "stream",
     "text": [
      "1 A C\n",
      "2 A B\n",
      "1 C B\n",
      "3 A C\n",
      "1 B A\n",
      "2 B C\n",
      "1 A C\n"
     ]
    }
   ],
   "source": [
    "def move(N, start, to):\n",
    "    print(N, start, to)\n",
    "\n",
    "def hanoi(N, start, to, via):\n",
    "    if N==1:\n",
    "        move(1, start, to)\n",
    "    else:\n",
    "        hanoi(N-1,start, via, to) #2-1번 원판을 A->B\n",
    "        move(N, start, to) #2번 원판을 A->Cs\n",
    "        hanoi(N-1, via, to, start) #다시 2-1번 원판을 B->C\n",
    "\n",
    "hanoi(3,'A','C','B')   "
   ]
  }
 ],
 "metadata": {
  "kernelspec": {
   "display_name": "Python 3",
   "language": "python",
   "name": "python3"
  },
  "language_info": {
   "codemirror_mode": {
    "name": "ipython",
    "version": 3
   },
   "file_extension": ".py",
   "mimetype": "text/x-python",
   "name": "python",
   "nbconvert_exporter": "python",
   "pygments_lexer": "ipython3",
   "version": "3.12.2"
  }
 },
 "nbformat": 4,
 "nbformat_minor": 2
}
