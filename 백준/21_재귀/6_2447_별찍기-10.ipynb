{
 "cells": [
  {
   "cell_type": "code",
   "execution_count": null,
   "metadata": {},
   "outputs": [],
   "source": [
    "import math\n",
    "def makeStar(N):\n",
    "    if N==3:\n",
    "        pass\n",
    "\n",
    "# N=int(math.log(int(input()),3))\n",
    "\n",
    "# *** * * ***\n",
    "N=9\n",
    "result=[]\n",
    "# result=['*'*N , '*'*(N//3) + ' '*(N//3) + '*'*(N//3) , '*'*N]\n",
    "for i in range(N):\n",
    "    for j in range(N):\n",
    "        if N//3 < (j+1) < N//3*2+1 and N//3 < (i+1) < N//3*2+1:\n",
    "            result.append(' ')\n",
    "        else:\n",
    "            result.append('*')\n",
    "for i in range(9):\n",
    "    print(result[i*9:(i+1)*9])\n",
    "\n"
   ]
  },
  {
   "cell_type": "code",
   "execution_count": null,
   "metadata": {},
   "outputs": [],
   "source": [
    "import math\n",
    "\n",
    "#3 1, 9,2 27,3\n",
    "# N=int(input())\n",
    "N=9\n",
    "p=int(math.log(N,3))\n",
    "result=list('*'*N*N)\n",
    "print(result)\n",
    "print(''.join(result))\n",
    "size=len(result)//9\n",
    "result[size*4:size*5]=' '*(3**2)\n",
    "for i in range(p):\n",
    "    result[size*4:size*5]=' '*(3**i)\n",
    "print(''.join(result))\n"
   ]
  },
  {
   "cell_type": "code",
   "execution_count": null,
   "metadata": {},
   "outputs": [],
   "source": [
    "\n",
    "********* ********* ********* *********           ********* ********* ********* *********\n",
    "    \n",
    "    \n",
    "\n",
    "********* ********* ********* ********* ********* ********* ********* ********* *********\n",
    "********* ********* ********* ***   *** ***   *** ***   *** ********* ********* ********* 4 5 6\n",
    "********* * ** ** * ********* ***   *** * *   * * ***   *** ********* * ** ** * ********* 2 4 5 6\n",
    "********* ********* ********* ********* ********* ********* ********* ********* ********* 3 3, 4 3, 5 3"
   ]
  },
  {
   "cell_type": "code",
   "execution_count": null,
   "metadata": {},
   "outputs": [],
   "source": [
    "import math\n",
    "# ***012\n",
    "# * *345\n",
    "# ***678\n",
    "x=9\n",
    "N=int(math.log(x,3))\n",
    "li=[list('*'*x) for _ in range(x)]\n",
    "print(li)\n",
    "for i in range(N): # 0 1\n",
    "    for j in range(x):\n",
    "        for k in range(x):\n",
    "            if 3<=j<6 and 3<=k<6:\n",
    "                li[j][k]=' '\n",
    "\n",
    "for i in li:\n",
    "    print(*i)"
   ]
  },
  {
   "cell_type": "code",
   "execution_count": 21,
   "metadata": {},
   "outputs": [
    {
     "name": "stdout",
     "output_type": "stream",
     "text": [
      "*********\n",
      "* ** ** *\n",
      "*********\n",
      "***   ***\n",
      "* *   * *\n",
      "***   ***\n",
      "*********\n",
      "* ** ** *\n",
      "*********\n"
     ]
    }
   ],
   "source": [
    "import sys\n",
    "sys.setrecursionlimit(100000) #재귀호출스택 제한해제\n",
    "\n",
    "def paint_star(LEN):\n",
    "    if LEN == 1:\n",
    "        return ['*']\n",
    "    part=LEN//3\n",
    "    stars=paint_star(part)\n",
    "    #region other\n",
    "    # li=[]\n",
    "    # for s in stars:\n",
    "    #     li.append(s*3)\n",
    "    # for s in stars:\n",
    "    #     li.append(s+' '*(LEN//3)+s)\n",
    "    # for s in stars:\n",
    "    #     li.append(s*3)\n",
    "    #endregion \n",
    "    li = [s*3 for s in stars] + [s + ' '*part + s for s in stars] + [s*3 for s in stars]\n",
    "\n",
    "\n",
    "\n",
    "    return li\n",
    "\n",
    "print('\\n'.join(paint_star(int(input())))) "
   ]
  }
 ],
 "metadata": {
  "kernelspec": {
   "display_name": "Python 3",
   "language": "python",
   "name": "python3"
  },
  "language_info": {
   "codemirror_mode": {
    "name": "ipython",
    "version": 3
   },
   "file_extension": ".py",
   "mimetype": "text/x-python",
   "name": "python",
   "nbconvert_exporter": "python",
   "pygments_lexer": "ipython3",
   "version": "3.12.2"
  }
 },
 "nbformat": 4,
 "nbformat_minor": 2
}
