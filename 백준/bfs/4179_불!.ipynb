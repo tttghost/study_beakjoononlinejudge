{
 "cells": [
  {
   "cell_type": "code",
   "execution_count": 5,
   "metadata": {},
   "outputs": [
    {
     "name": "stdout",
     "output_type": "stream",
     "text": [
      "init test-case\n",
      "101\n"
     ]
    }
   ],
   "source": [
    "#지긋지긋... 5시간은 한 듯... 그래도 어느정도 개념 이해 하였다..\n",
    "\n",
    "initTestCase()\n",
    "\n",
    "from collections import deque\n",
    "\n",
    "EMPTY='.'\n",
    "WALL='#'\n",
    "PLAYER='J'\n",
    "FIRE='F'\n",
    "IMPOSSIBLE='IMPOSSIBLE'\n",
    "\n",
    "dx=[-1,1,0,0] ##좌우\n",
    "dy=[0,0,-1,1] ##상하\n",
    "\n",
    "row,col=map(int,input().split())\n",
    "building=[list(input().rstrip()) for _ in range(row)]\n",
    "fire_q=deque()\n",
    "player_q=deque()\n",
    "\n",
    "for y in range(row):\n",
    "    for x in range(col):\n",
    "        if building[y][x]==FIRE:\n",
    "            fire_q.append((y,x))\n",
    "        elif building[y][x]==PLAYER:\n",
    "            player_q.append((y,x))\n",
    "\n",
    "state=0 # 0 무한루프, 1성공, 2실패\n",
    "cnt=0\n",
    "\n",
    "while player_q:\n",
    "    cnt+=1\n",
    "    playerLen=len(player_q)\n",
    "    for _ in range(playerLen):\n",
    "        if state==1:\n",
    "            break\n",
    "        y,x=player_q.popleft()\n",
    "        if building[y][x]==PLAYER:\n",
    "            for i in range(4):\n",
    "                ny,nx=y+dy[i],x+dx[i]\n",
    "                if ny<0 or ny>row-1 or nx<0 or nx>col-1:\n",
    "                    state=1\n",
    "                    break\n",
    "                if building[ny][nx]==EMPTY:\n",
    "                    building[ny][nx]=PLAYER\n",
    "                    player_q.append((ny,nx))\n",
    "    \n",
    "    \n",
    "    if state==1:\n",
    "        print(cnt)\n",
    "        break\n",
    "    \n",
    "    fireLen=len(fire_q)\n",
    "    for _ in range(fireLen):\n",
    "        y,x=fire_q.popleft()\n",
    "        for i in range(4):\n",
    "            ny,nx=y+dy[i],x+dx[i]\n",
    "            if ny<0 or ny>row-1 or nx<0 or nx>col-1:\n",
    "                continue\n",
    "            if building[ny][nx]==EMPTY or building[ny][nx]==PLAYER:\n",
    "                building[ny][nx]=FIRE\n",
    "                fire_q.append((ny,nx))\n",
    "else:\n",
    "    print(IMPOSSIBLE)"
   ]
  },
  {
   "cell_type": "code",
   "execution_count": 2,
   "metadata": {},
   "outputs": [],
   "source": [
    "#region test-case\n",
    "\n",
    "file='''\n",
    "\n",
    "4 102\n",
    "######################################################################################################\n",
    "#J....................................................................................................\n",
    "#F....................................................................................................\n",
    "######################################################################################################\n",
    "\n",
    "'''.strip().split('\\n')\n",
    "idx=0\n",
    "\n",
    "def input():\n",
    "    global idx\n",
    "    line=file[idx]\n",
    "    idx+=1\n",
    "    return line\n",
    "\n",
    "def initTestCase():\n",
    "    global idx\n",
    "    idx=0\n",
    "    print('init test-case')\n",
    "\n",
    "#endregion\n"
   ]
  }
 ],
 "metadata": {
  "kernelspec": {
   "display_name": "Python 3",
   "language": "python",
   "name": "python3"
  },
  "language_info": {
   "codemirror_mode": {
    "name": "ipython",
    "version": 3
   },
   "file_extension": ".py",
   "mimetype": "text/x-python",
   "name": "python",
   "nbconvert_exporter": "python",
   "pygments_lexer": "ipython3",
   "version": "3.12.2"
  }
 },
 "nbformat": 4,
 "nbformat_minor": 2
}
