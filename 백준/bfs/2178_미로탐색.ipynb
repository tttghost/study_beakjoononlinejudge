{
 "cells": [
  {
   "cell_type": "markdown",
   "metadata": {},
   "source": [
    "### bfs로 풀어야 제격인 문제\n",
    "<img src=\"https://images.shiksha.com/mediadata/ugcDocuments/images/wordpressImages/2022_12_MicrosoftTeams-image-107.jpg\" width=\"40%\" height=\"40%\">"
   ]
  },
  {
   "cell_type": "code",
   "execution_count": 69,
   "metadata": {
    "metadata": {}
   },
   "outputs": [
    {
     "name": "stdout",
     "output_type": "stream",
     "text": [
      "init test-case\n",
      "15\n"
     ]
    }
   ],
   "source": [
    "# 내 맘대로 풀었음\n",
    "\n",
    "initTestCase()\n",
    "\n",
    "X,Y=map(int,input().split())\n",
    "maze=[[s for s in input()] for _ in range(X)]\n",
    "\n",
    "directions=[[-1,0],[1,0],[0,-1],[0,1]]\n",
    "\n",
    "player=[0,0]\n",
    "end=[X-1,Y-1]\n",
    "stack=[player[:]]\n",
    "\n",
    "cnt=1\n",
    "\n",
    "isPossible=True\n",
    "\n",
    "while player!=end:\n",
    "    find=False\n",
    "    for d in directions:\n",
    "        nextPos=[player[0]+d[0],player[1]+d[1]]\n",
    "        #갈수 없는 영역 체크\n",
    "        if nextPos[0]<0 or end[0]<nextPos[0] or nextPos[1]<0 or end[1]<nextPos[1]: \n",
    "            continue\n",
    "        #갈수없는 조건: 1.스택있을때 이전에 왔던길이었다면\n",
    "        if stack and nextPos in stack: \n",
    "            continue\n",
    "\n",
    "        if maze[nextPos[0]][nextPos[1]]=='1':\n",
    "                stack.append(player[:])\n",
    "                player=nextPos[:]\n",
    "                cnt+=1\n",
    "                find=True\n",
    "                break\n",
    "\n",
    "    if not find:\n",
    "        if stack:\n",
    "            maze[player[0]][player[1]]='0'\n",
    "            prevPos=stack.pop()\n",
    "            player=prevPos[:]\n",
    "            cnt-=1\n",
    "        else:\n",
    "            isPossible=False\n",
    "            break\n",
    "\n",
    "print(cnt)"
   ]
  },
  {
   "cell_type": "code",
   "execution_count": 70,
   "metadata": {
    "metadata": {}
   },
   "outputs": [
    {
     "name": "stdout",
     "output_type": "stream",
     "text": [
      "init test-case\n"
     ]
    },
    {
     "data": {
      "text/plain": [
       "15"
      ]
     },
     "execution_count": 70,
     "metadata": {},
     "output_type": "execute_result"
    }
   ],
   "source": [
    "#dfs back-tracking\n",
    "initTestCase()\n",
    "\n",
    "\n",
    "X,Y=map(int,input().split())\n",
    "maze=[list(s for s in input()) for _ in range(X)]\n",
    "\n",
    "dx=[-1,1,0,0]\n",
    "dy=[0,0,-1,1]\n",
    "\n",
    "visited=[list([False]*Y) for _ in range(X)]\n",
    "visited[0][0]=True\n",
    "\n",
    "\n",
    "min_val=1e9\n",
    "def dfs(x,y,n):\n",
    "    global min_val\n",
    "    if x==X-1 and y==Y-1:\n",
    "        min_val=min(min_val,n)\n",
    "        return\n",
    "    for i in range(4):\n",
    "        nx,ny=x+dx[i],y+dy[i]\n",
    "        if nx<0 or X-1<nx or ny<0 or Y-1<ny: \n",
    "            continue\n",
    "        if maze[nx][ny]=='0':\n",
    "            continue\n",
    "        if visited[nx][ny]==True:\n",
    "            continue\n",
    "        visited[nx][ny]=True\n",
    "        dfs(nx,ny,n+1)\n",
    "        visited[nx][ny]=False\n",
    "\n",
    "dfs(0,0,1)\n",
    "min_val"
   ]
  },
  {
   "cell_type": "code",
   "execution_count": 71,
   "metadata": {},
   "outputs": [
    {
     "ename": "IndexError",
     "evalue": "list index out of range",
     "output_type": "error",
     "traceback": [
      "\u001b[1;31m---------------------------------------------------------------------------\u001b[0m",
      "\u001b[1;31mIndexError\u001b[0m                                Traceback (most recent call last)",
      "Cell \u001b[1;32mIn[71], line 6\u001b[0m\n\u001b[0;32m      1\u001b[0m \u001b[38;5;66;03m# 80점짜리, 이동할때마다 기존미로 횟수를 업그레이드 해줘야 하는것을 생각못함\u001b[39;00m\n\u001b[0;32m      3\u001b[0m \u001b[38;5;28;01mfrom\u001b[39;00m \u001b[38;5;21;01mcollections\u001b[39;00m \u001b[38;5;28;01mimport\u001b[39;00m deque\n\u001b[1;32m----> 6\u001b[0m row,col\u001b[38;5;241m=\u001b[39m\u001b[38;5;28mmap\u001b[39m(\u001b[38;5;28mint\u001b[39m, \u001b[38;5;28;43minput\u001b[39;49m\u001b[43m(\u001b[49m\u001b[43m)\u001b[49m\u001b[38;5;241m.\u001b[39msplit())\n\u001b[0;32m      7\u001b[0m maze\u001b[38;5;241m=\u001b[39m[\u001b[38;5;28minput\u001b[39m() \u001b[38;5;28;01mfor\u001b[39;00m _ \u001b[38;5;129;01min\u001b[39;00m \u001b[38;5;28mrange\u001b[39m(row)]\n\u001b[0;32m      8\u001b[0m visited\u001b[38;5;241m=\u001b[39m[[\u001b[38;5;124m'\u001b[39m\u001b[38;5;124m0\u001b[39m\u001b[38;5;124m'\u001b[39m]\u001b[38;5;241m*\u001b[39mcol \u001b[38;5;28;01mfor\u001b[39;00m _ \u001b[38;5;129;01min\u001b[39;00m \u001b[38;5;28mrange\u001b[39m(row)]\n",
      "Cell \u001b[1;32mIn[40], line 16\u001b[0m, in \u001b[0;36minput\u001b[1;34m()\u001b[0m\n\u001b[0;32m     14\u001b[0m \u001b[38;5;28;01mdef\u001b[39;00m \u001b[38;5;21minput\u001b[39m():\n\u001b[0;32m     15\u001b[0m     \u001b[38;5;28;01mglobal\u001b[39;00m idx\n\u001b[1;32m---> 16\u001b[0m     line\u001b[38;5;241m=\u001b[39m\u001b[43mfile\u001b[49m\u001b[43m[\u001b[49m\u001b[43midx\u001b[49m\u001b[43m]\u001b[49m\n\u001b[0;32m     17\u001b[0m     idx\u001b[38;5;241m+\u001b[39m\u001b[38;5;241m=\u001b[39m\u001b[38;5;241m1\u001b[39m\n\u001b[0;32m     18\u001b[0m     \u001b[38;5;28;01mreturn\u001b[39;00m line\n",
      "\u001b[1;31mIndexError\u001b[0m: list index out of range"
     ]
    }
   ],
   "source": [
    "# 80점짜리, 이동할때마다 기존미로 횟수를 업그레이드 해줘야 하는것을 생각못함\n",
    "\n",
    "from collections import deque\n",
    "\n",
    "\n",
    "row,col=map(int, input().split())\n",
    "maze=[input() for _ in range(row)]\n",
    "visited=[['0']*col for _ in range(row)]\n",
    "\n",
    "dx=[-1,1,0,0]\n",
    "dy=[0,0,-1,1]\n",
    "\n",
    "q=deque([(0,0)])\n",
    "visited[0][0]='1'\n",
    "exit=False\n",
    "move=0\n",
    "while not exit:\n",
    "    move+=1\n",
    "    next_q=deque()\n",
    "    while q:\n",
    "        y,x=q.popleft()\n",
    "        if y==row-1 and x==col-1:\n",
    "            exit=True\n",
    "            break\n",
    "        for i in range(4):\n",
    "            ny,nx=y+dy[i],x+dx[i]\n",
    "            if ny<0 or nx<0 or ny>=row or nx>=col:\n",
    "                continue\n",
    "            if maze[ny][nx]=='0':\n",
    "                continue\n",
    "            if visited[ny][nx]=='1':\n",
    "                continue\n",
    "            visited[ny][nx]='1'\n",
    "            next_q.append((ny,nx))\n",
    "    q=next_q\n",
    "print(move)"
   ]
  },
  {
   "cell_type": "code",
   "execution_count": 5,
   "metadata": {},
   "outputs": [
    {
     "name": "stdout",
     "output_type": "stream",
     "text": [
      "init test-case\n",
      "13\n"
     ]
    }
   ],
   "source": [
    "# 100점짜리, 이동할때마다 횟수 업데이트, 개행에러..필수!!\n",
    "from collections import deque\n",
    "\n",
    "initTestCase()\n",
    "\n",
    "row,col=map(int, input().split())\n",
    "maze=[list(map(int, input())) for _ in range(row)]\n",
    "visited=[[False]*col for _ in range(row)]\n",
    "\n",
    "dx=[-1,1,0,0]\n",
    "dy=[0,0,-1,1]\n",
    "\n",
    "q=deque()\n",
    "q.append((0,0))\n",
    "visited[0][0]=True\n",
    "\n",
    "while q:\n",
    "    y,x=q.popleft()\n",
    "    for i in range(4):\n",
    "        ny,nx=y+dy[i],x+dx[i]\n",
    "        if ny<0 or nx<0 or ny>=row or nx>=col:\n",
    "            continue\n",
    "        if maze[ny][nx]!=1:\n",
    "            continue\n",
    "        if visited[ny][nx]==True:\n",
    "            continue\n",
    "        visited[ny][nx]=True\n",
    "        maze[ny][nx]=maze[y][x]+1\n",
    "        q.append((ny,nx))\n",
    "        \n",
    "print(maze[-1][-1])"
   ]
  },
  {
   "cell_type": "code",
   "execution_count": 4,
   "metadata": {},
   "outputs": [],
   "source": [
    "#region test-case\n",
    "\n",
    "file='''\n",
    "\n",
    "7 7\n",
    "1011111\n",
    "1110001\n",
    "1000001\n",
    "1000001\n",
    "1000001\n",
    "1000001\n",
    "1111111\n",
    "\n",
    "'''.strip().split('\\n')\n",
    "idx=0\n",
    "\n",
    "def input():\n",
    "    global idx\n",
    "    line=file[idx]\n",
    "    idx+=1\n",
    "    return line\n",
    "\n",
    "def initTestCase():\n",
    "    global idx\n",
    "    idx=0\n",
    "    print('init test-case')\n",
    "\n",
    "#endregion"
   ]
  }
 ],
 "metadata": {
  "kernelspec": {
   "display_name": "Python 3",
   "language": "python",
   "name": "python3"
  },
  "language_info": {
   "codemirror_mode": {
    "name": "ipython",
    "version": 3
   },
   "file_extension": ".py",
   "mimetype": "text/x-python",
   "name": "python",
   "nbconvert_exporter": "python",
   "pygments_lexer": "ipython3",
   "version": "3.12.2"
  }
 },
 "nbformat": 4,
 "nbformat_minor": 2
}
