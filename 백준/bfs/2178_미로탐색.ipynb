{
 "cells": [
  {
   "cell_type": "markdown",
   "metadata": {},
   "source": [
    "### bfs로 풀어야 제격인 문제\n",
    "<img src=\"https://images.shiksha.com/mediadata/ugcDocuments/images/wordpressImages/2022_12_MicrosoftTeams-image-107.jpg\" width=\"40%\" height=\"40%\">"
   ]
  },
  {
   "cell_type": "code",
   "execution_count": 7,
   "metadata": {
    "metadata": {}
   },
   "outputs": [
    {
     "name": "stdout",
     "output_type": "stream",
     "text": [
      "init test-case\n",
      "21\n"
     ]
    }
   ],
   "source": [
    "# 내 맘대로 풀었음\n",
    "\n",
    "initTestCase()\n",
    "\n",
    "X,Y=map(int,input().split())\n",
    "maze=[[s for s in input()] for _ in range(X)]\n",
    "\n",
    "directions=[[-1,0],[1,0],[0,-1],[0,1]]\n",
    "\n",
    "player=[0,0]\n",
    "end=[X-1,Y-1]\n",
    "stack=[player[:]]\n",
    "\n",
    "cnt=1\n",
    "\n",
    "isPossible=True\n",
    "\n",
    "while player!=end:\n",
    "    find=False\n",
    "    for d in directions:\n",
    "        nextPos=[player[0]+d[0],player[1]+d[1]]\n",
    "        #갈수 없는 영역 체크\n",
    "        if nextPos[0]<0 or end[0]<nextPos[0] or nextPos[1]<0 or end[1]<nextPos[1]: \n",
    "            continue\n",
    "        #갈수없는 조건: 1.스택있을때 이전에 왔던길이었다면\n",
    "        if stack and nextPos in stack: \n",
    "            continue\n",
    "\n",
    "        if maze[nextPos[0]][nextPos[1]]=='1':\n",
    "                stack.append(player[:])\n",
    "                player=nextPos[:]\n",
    "                cnt+=1\n",
    "                find=True\n",
    "                break\n",
    "\n",
    "    if not find:\n",
    "        if stack:\n",
    "            maze[player[0]][player[1]]='0'\n",
    "            prevPos=stack.pop()\n",
    "            player=prevPos[:]\n",
    "            cnt-=1\n",
    "        else:\n",
    "            isPossible=False\n",
    "            break\n",
    "\n",
    "print(cnt)"
   ]
  },
  {
   "cell_type": "code",
   "execution_count": 11,
   "metadata": {
    "metadata": {}
   },
   "outputs": [
    {
     "name": "stdout",
     "output_type": "stream",
     "text": [
      "init test-case\n"
     ]
    },
    {
     "data": {
      "text/plain": [
       "21"
      ]
     },
     "execution_count": 11,
     "metadata": {},
     "output_type": "execute_result"
    }
   ],
   "source": [
    "#dfs back-tracking\n",
    "initTestCase()\n",
    "\n",
    "\n",
    "X,Y=map(int,input().split())\n",
    "maze=[list(s for s in input()) for _ in range(X)]\n",
    "\n",
    "dx=[-1,1,0,0]\n",
    "dy=[0,0,-1,1]\n",
    "\n",
    "visited=[list([False]*Y) for _ in range(X)]\n",
    "visited[0][0]=True\n",
    "\n",
    "\n",
    "min_val=1e9\n",
    "def dfs(x,y,n):\n",
    "    global min_val\n",
    "    if x==X-1 and y==Y-1:\n",
    "        min_val=min(min_val,n)\n",
    "        return\n",
    "    for i in range(4):\n",
    "        nx,ny=x+dx[i],y+dy[i]\n",
    "        if nx<0 or X-1<nx or ny<0 or Y-1<ny: \n",
    "            continue\n",
    "        if maze[nx][ny]=='0':\n",
    "            continue\n",
    "        if visited[nx][ny]==True:\n",
    "            continue\n",
    "        visited[nx][ny]=True\n",
    "        dfs(nx,ny,n+1)\n",
    "        visited[nx][ny]=False\n",
    "\n",
    "dfs(0,0,1)\n",
    "min_val"
   ]
  },
  {
   "cell_type": "code",
   "execution_count": 13,
   "metadata": {},
   "outputs": [
    {
     "data": {
      "text/plain": [
       "10"
      ]
     },
     "execution_count": 13,
     "metadata": {},
     "output_type": "execute_result"
    }
   ],
   "source": [
    "# bfs\n",
    "initTestCase()"
   ]
  },
  {
   "cell_type": "code",
   "execution_count": 10,
   "metadata": {},
   "outputs": [],
   "source": [
    "#region test-case\n",
    "\n",
    "file='''\n",
    "\n",
    "6 6\n",
    "111111\n",
    "000001\n",
    "111111\n",
    "100000\n",
    "100000\n",
    "111111\n",
    "\n",
    "'''.strip().split('\\n')\n",
    "idx=0\n",
    "\n",
    "def input():\n",
    "    global idx\n",
    "    line=file[idx]\n",
    "    idx+=1\n",
    "    return line\n",
    "\n",
    "def initTestCase():\n",
    "    global idx\n",
    "    idx=0\n",
    "    print('init test-case')\n",
    "\n",
    "#endregion"
   ]
  }
 ],
 "metadata": {
  "kernelspec": {
   "display_name": "Python 3",
   "language": "python",
   "name": "python3"
  },
  "language_info": {
   "codemirror_mode": {
    "name": "ipython",
    "version": 3
   },
   "file_extension": ".py",
   "mimetype": "text/x-python",
   "name": "python",
   "nbconvert_exporter": "python",
   "pygments_lexer": "ipython3",
   "version": "3.12.2"
  }
 },
 "nbformat": 4,
 "nbformat_minor": 2
}
