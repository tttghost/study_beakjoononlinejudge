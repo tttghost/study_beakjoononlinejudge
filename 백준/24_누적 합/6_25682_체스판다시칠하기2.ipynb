{
 "cells": [
  {
   "cell_type": "code",
   "execution_count": 47,
   "metadata": {},
   "outputs": [
    {
     "name": "stdout",
     "output_type": "stream",
     "text": [
      "40\n"
     ]
    }
   ],
   "source": [
    "#구간합구하기5를 풀고나서 풀어서 수월하게 풀 수 있었다.\n",
    "#region temp input\n",
    "idx=0\n",
    "def input():\n",
    "    global idx\n",
    "    line=file[idx]\n",
    "    idx+=1\n",
    "    return line\n",
    "\n",
    "file='''\n",
    "9 23 9\n",
    "BBBBBBBBBBBBBBBBBBBBBBB\n",
    "BBBBBBBBBBBBBBBBBBBBBBB\n",
    "BBBBBBBBBBBBBBBBBBBBBBB\n",
    "BBBBBBBBBBBBBBBBBBBBBBB\n",
    "BBBBBBBBBBBBBBBBBBBBBBB\n",
    "BBBBBBBBBBBBBBBBBBBBBBB\n",
    "BBBBBBBBBBBBBBBBBBBBBBB\n",
    "BBBBBBBBBBBBBBBBBBBBBBB\n",
    "BBBBBBBBBBBBBBBWWWWWWWW\n",
    "'''.strip().split('\\n')\n",
    "\n",
    "output='''\n",
    "2\n",
    "'''\n",
    "# import sys\n",
    "# input=sys.stdin.readline\n",
    "\n",
    "#endregion\n",
    "\n",
    "\n",
    "row,col,K=map(int,input().split()) # row row, col col\n",
    "board=['0'*(col+1)]+['0'+input() for _ in range(row)]#계산을 위해 0행&0열 0 깔아줌\n",
    "K-=1 # if 3 -> 0~2 => 3-1=2\n",
    "\n",
    "# 'W'시작\n",
    "board_W=[[0]*(col+1) for _ in range(row+1)]\n",
    "\n",
    "# 'B'시작\n",
    "board_B=[[0]*(col+1) for _ in range(row+1)]\n",
    "\n",
    "\n",
    "#각 체스판 별 구할 값 구하기\n",
    "for j in range(1,row+1):\n",
    "    for i in range(1,col+1):\n",
    "        # W로 시작\n",
    "        if (i+j)%2==0 and board[j][i]=='B'\\\n",
    "        or (i+j)%2==1 and board[j][i]=='W':\n",
    "            board_W[j][i]=1\n",
    "        # B로 시작\n",
    "        if (i+j)%2==0 and board[j][i]=='W'\\\n",
    "        or (i+j)%2==1 and board[j][i]=='B':\n",
    "            board_B[j][i]=1\n",
    "\n",
    "#누적합 점화식\n",
    "for j in range(1,row+1):\n",
    "    for i in range(1,col+1):\n",
    "        board_W[j][i]+=board_W[j][i-1]+board_W[j-1][i]-board_W[j-1][i-1]\n",
    "        board_B[j][i]+=board_B[j][i-1]+board_B[j-1][i]-board_B[j-1][i-1]\n",
    "\n",
    "#최소값\n",
    "minv=1e9\n",
    "#최소값 구하기\n",
    "for j in range(1,row+1-K):\n",
    "    for i in range(1,col+1-K):\n",
    "        v1=board_W[j+K][i+K]-board_W[j+K][i-1]-board_W[j-1][i+K]+board_W[j-1][i-1]\n",
    "        v2=board_B[j+K][i+K]-board_B[j+K][i-1]-board_B[j-1][i+K]+board_B[j-1][i-1]\n",
    "        minv=min(minv,v1,v2)\n",
    "\n",
    "print(minv)"
   ]
  }
 ],
 "metadata": {
  "kernelspec": {
   "display_name": "Python 3",
   "language": "python",
   "name": "python3"
  },
  "language_info": {
   "codemirror_mode": {
    "name": "ipython",
    "version": 3
   },
   "file_extension": ".py",
   "mimetype": "text/x-python",
   "name": "python",
   "nbconvert_exporter": "python",
   "pygments_lexer": "ipython3",
   "version": "3.12.2"
  }
 },
 "nbformat": 4,
 "nbformat_minor": 2
}
