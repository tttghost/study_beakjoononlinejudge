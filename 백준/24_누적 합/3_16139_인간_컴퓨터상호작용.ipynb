{
 "cells": [
  {
   "cell_type": "code",
   "execution_count": 3,
   "metadata": {},
   "outputs": [
    {
     "name": "stdout",
     "output_type": "stream",
     "text": [
      "0\n",
      "1\n",
      "2\n",
      "1\n"
     ]
    }
   ],
   "source": [
    "#누적합사용x\n",
    "idx=0\n",
    "def input():\n",
    "    global idx\n",
    "    line=file[idx]\n",
    "    idx+=1\n",
    "    return line\n",
    "\n",
    "file='''\n",
    "\n",
    "seungjaehwang\n",
    "4\n",
    "a 0 5\n",
    "a 0 6\n",
    "a 6 10\n",
    "a 7 10\n",
    "\n",
    "'''.strip().split('\\n')\n",
    "\n",
    "S=input()\n",
    "q=int(input())\n",
    "li=[input().split() for _ in range(q)]\n",
    "rs=[]\n",
    "for i in range(q): # O(n)\n",
    "    a=li[i][0]\n",
    "    l=int(li[i][1])\n",
    "    r=int(li[i][2])\n",
    "    rs.append(str(S[l:r+1].count(a))) # O(n)\n",
    "\n",
    "# O(n^2)\n",
    "print('\\n'.join(rs))"
   ]
  },
  {
   "cell_type": "code",
   "execution_count": 133,
   "metadata": {},
   "outputs": [
    {
     "name": "stdout",
     "output_type": "stream",
     "text": [
      "0\n",
      "1\n",
      "2\n",
      "1\n"
     ]
    }
   ],
   "source": [
    "#누적합사용!\n",
    "idx=0\n",
    "def input():\n",
    "    global idx\n",
    "    line=file[idx]\n",
    "    idx+=1\n",
    "    return line\n",
    "\n",
    "file='''\n",
    "\n",
    "seungjaehwang\n",
    "4\n",
    "a 0 5\n",
    "a 0 6\n",
    "a 6 11\n",
    "a 7 11\n",
    "\n",
    "'''.strip().split('\\n')\n",
    "\n",
    "S=input()\n",
    "q=int(input())\n",
    "\n",
    "LEN=len(S)\n",
    "li=[tuple(input().split()) for _ in range(q)]\n",
    "alphabet=[[0]*26]\n",
    "alphabet[0][ord(S[0])-97]=1 \n",
    "\n",
    "for j in range(1,LEN):\n",
    "    alphabet.append(alphabet[j-1][:])\n",
    "    alphabet[j][ord(S[j])-97]+=1\n",
    "\n",
    "for i in range(q):\n",
    "    a=ord(li[i][0])-97\n",
    "    l=int(li[i][1])-1\n",
    "    r=int(li[i][2])\n",
    "\n",
    "    if l<0:\n",
    "        print(alphabet[r][a])\n",
    "    else:\n",
    "        print(alphabet[r][a] - alphabet[l][a])"
   ]
  },
  {
   "cell_type": "code",
   "execution_count": null,
   "metadata": {},
   "outputs": [],
   "source": [
    "\n",
    "S=input()\n",
    "q=int(input())\n",
    "\n",
    "li=[input().split() for _ in range(q)]\n",
    "alphabet=[[0]*26]\n",
    "\n",
    "for i in range(len(S)):\n",
    "    if i>0:\n",
    "        alphabet.append(alphabet[i-1][:])\n",
    "    alphabet[i][ord(S[i])-97]+=1\n",
    "\n",
    "for i in range(q):\n",
    "    a=ord(li[i][0])-97\n",
    "    l=int(li[i][1])-1\n",
    "    r=int(li[i][2])\n",
    "\n",
    "    if l<0:\n",
    "        print(alphabet[min(r,25)][a])\n",
    "    else:\n",
    "        print(alphabet[min(r,25)][a] - alphabet[l][a])"
   ]
  }
 ],
 "metadata": {
  "kernelspec": {
   "display_name": "Python 3",
   "language": "python",
   "name": "python3"
  },
  "language_info": {
   "codemirror_mode": {
    "name": "ipython",
    "version": 3
   },
   "file_extension": ".py",
   "mimetype": "text/x-python",
   "name": "python",
   "nbconvert_exporter": "python",
   "pygments_lexer": "ipython3",
   "version": "3.12.2"
  }
 },
 "nbformat": 4,
 "nbformat_minor": 2
}
