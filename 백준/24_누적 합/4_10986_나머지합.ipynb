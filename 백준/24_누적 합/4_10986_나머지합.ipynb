{
 "cells": [
  {
   "cell_type": "code",
   "execution_count": 74,
   "metadata": {},
   "outputs": [],
   "source": [
    "%reset -f"
   ]
  },
  {
   "cell_type": "code",
   "execution_count": 5,
   "metadata": {},
   "outputs": [
    {
     "name": "stdout",
     "output_type": "stream",
     "text": [
      "7\n"
     ]
    }
   ],
   "source": [
    "#일단풀어봄, 정답, 45분걸림, 깔끔하게 정답도출했음\n",
    "idx=0\n",
    "def input():\n",
    "    global idx\n",
    "    line=file[idx]\n",
    "    idx+=1\n",
    "    return line\n",
    "\n",
    "file='''\n",
    "5 3\n",
    "1 2 3 1 2\n",
    "\n",
    "\n",
    "'''.strip().split('\\n')\n",
    "\n",
    "# import sys\n",
    "# input=sys.stdin.readline\n",
    "\n",
    "N,M=map(int,input().split())\n",
    "A=list(map(int,input().split()))\n",
    "dp=[-1]*M\n",
    "dp[A[0]%M]+=1\n",
    "total=0\n",
    "\n",
    "for i in range(1,len(A)):\n",
    "    A[i]+=A[i-1]\n",
    "    dp[A[i]%M]+=1\n",
    "    \n",
    "for i in range(len(dp)):\n",
    "    total+=(dp[i]+1)*dp[i]//2\n",
    "\n",
    "print(total)\n",
    "\n"
   ]
  }
 ],
 "metadata": {
  "kernelspec": {
   "display_name": "Python 3",
   "language": "python",
   "name": "python3"
  },
  "language_info": {
   "codemirror_mode": {
    "name": "ipython",
    "version": 3
   },
   "file_extension": ".py",
   "mimetype": "text/x-python",
   "name": "python",
   "nbconvert_exporter": "python",
   "pygments_lexer": "ipython3",
   "version": "3.12.2"
  }
 },
 "nbformat": 4,
 "nbformat_minor": 2
}
