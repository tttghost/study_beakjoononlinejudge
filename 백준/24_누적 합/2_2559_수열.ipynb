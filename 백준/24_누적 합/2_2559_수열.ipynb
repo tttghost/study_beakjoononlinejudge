{
 "cells": [
  {
   "cell_type": "code",
   "execution_count": 2,
   "metadata": {},
   "outputs": [
    {
     "name": "stdout",
     "output_type": "stream",
     "text": [
      "31\n"
     ]
    }
   ],
   "source": [
    "idx=0\n",
    "def input():\n",
    "    global idx\n",
    "    line=file[idx]\n",
    "    idx+=1\n",
    "    return line\n",
    "\n",
    "file='''\n",
    "\n",
    "10 5\n",
    "3 -2 -4 -9 0 3 7 13 8 -3\n",
    "\n",
    "'''.strip().split('\\n')\n",
    "\n",
    "N,K=map(int,input().split())\n",
    "li=list(map(int,input().split()))\n",
    "dp=[sum(li[:K])]\n",
    "for i in range(K,N):\n",
    "    dp.append(dp[-1]+li[i]-li[i-K])\n",
    "print(max(dp))    \n"
   ]
  }
 ],
 "metadata": {
  "kernelspec": {
   "display_name": "Python 3",
   "language": "python",
   "name": "python3"
  },
  "language_info": {
   "codemirror_mode": {
    "name": "ipython",
    "version": 3
   },
   "file_extension": ".py",
   "mimetype": "text/x-python",
   "name": "python",
   "nbconvert_exporter": "python",
   "pygments_lexer": "ipython3",
   "version": "3.12.2"
  }
 },
 "nbformat": 4,
 "nbformat_minor": 2
}
