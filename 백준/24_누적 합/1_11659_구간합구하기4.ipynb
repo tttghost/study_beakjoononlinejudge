{
 "cells": [
  {
   "cell_type": "code",
   "execution_count": 1,
   "metadata": {},
   "outputs": [
    {
     "name": "stdout",
     "output_type": "stream",
     "text": [
      "12\n",
      "9\n",
      "1\n"
     ]
    }
   ],
   "source": [
    "file='''5 3\n",
    "5 4 3 2 1\n",
    "1 3\n",
    "2 4\n",
    "5 5'''.strip().split('\\n')\n",
    "\n",
    "N,M=map(int,file[0].split())\n",
    "li=list(map(int,file[1].split()))\n",
    "numbers=[list(map(int,data)) for data in file[2:]]\n",
    "alreadySum=[li[i]=li[i-1] for i in range(1,N)]\n",
    "for i in range(1,N):\n",
    "    li[i]=li[i-1]\n",
    "# 5 9 12 14 15\n",
    "# 0 2\n",
    "# 1 3\n",
    "\n",
    "for i in range(M):\n",
    "    v1,v2=map(int,file[i+2].split())\n",
    "    print(sum(li[v1-1:v2]))"
   ]
  },
  {
   "cell_type": "code",
   "execution_count": null,
   "metadata": {},
   "outputs": [],
   "source": [
    "#정답\n",
    "import sys\n",
    "# input=sys.stdin.readline\n",
    "\n",
    "\n",
    "N,M=map(int,input().split())\n",
    "li=list(map(int,input().split()))\n",
    "li.insert(0,0)\n",
    "for i in range(1,N+1):\n",
    "    li[i]+=li[i-1]\n",
    "result=[]\n",
    "for i in range(M):\n",
    "    v1,v2=map(int,input().split())\n",
    "    result.append(str(li[v2]-li[v1-1]))\n",
    "print('\\n'.join(result))"
   ]
  }
 ],
 "metadata": {
  "kernelspec": {
   "display_name": "Python 3",
   "language": "python",
   "name": "python3"
  },
  "language_info": {
   "codemirror_mode": {
    "name": "ipython",
    "version": 3
   },
   "file_extension": ".py",
   "mimetype": "text/x-python",
   "name": "python",
   "nbconvert_exporter": "python",
   "pygments_lexer": "ipython3",
   "version": "3.12.2"
  }
 },
 "nbformat": 4,
 "nbformat_minor": 2
}
