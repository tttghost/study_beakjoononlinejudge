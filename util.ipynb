{
 "cells": [
  {
   "cell_type": "code",
   "execution_count": 8,
   "metadata": {},
   "outputs": [],
   "source": [
    "# 프롬프트 메세지 제거용\n",
    "\n",
    "import sys\n",
    "input=sys.stdin.readline\n",
    "\n",
    "\n",
    "\n",
    "\n",
    "\n",
    "\n",
    "#필수로 \\n지우기 위한 rstrip()필수!!"
   ]
  },
  {
   "cell_type": "code",
   "execution_count": null,
   "metadata": {},
   "outputs": [],
   "source": [
    "# 셀메세지 지우기\n",
    "\n",
    "from IPython.display import clear_output\n",
    "import time\n",
    "\n",
    "i=3\n",
    "while i:\n",
    "    print(i)\n",
    "    i-=1\n",
    "    time.sleep(1)\n",
    "    clear_output(True)"
   ]
  },
  {
   "cell_type": "code",
   "execution_count": null,
   "metadata": {},
   "outputs": [],
   "source": [
    "# 셀메세지 지우기\n",
    "\n",
    "from IPython.display import clear_output\n",
    "import time\n",
    "print('\\n'.join(' '.join(row) for row in visited))\n",
    "time.sleep(1)\n",
    "clear_output(True)"
   ]
  },
  {
   "cell_type": "code",
   "execution_count": 26,
   "metadata": {},
   "outputs": [],
   "source": [
    "#꿀팁, 리스트 null일때도 가능\n",
    "a=[1,1,4,1,3,3,1,1]\n",
    "answer=[]\n",
    "for i in a:\n",
    "    if answer[-1:] != [i]:\n",
    "        answer.append(i)\n"
   ]
  },
  {
   "cell_type": "code",
   "execution_count": 1,
   "metadata": {},
   "outputs": [],
   "source": [
    "#region test-case\n",
    "%reset -f\n",
    "FILE=[\n",
    "'''\n",
    "'''\n",
    "]\n",
    "\n",
    "RESULT=[\n",
    "'''\n",
    "''',]\n",
    "\n",
    "def input():\n",
    "    global IDX\n",
    "    LINE=LINES[IDX]\n",
    "    IDX+=1\n",
    "    return LINE\n",
    "\n",
    "def initTestCase(CASE=0):\n",
    "\n",
    "    global LINES\n",
    "    LINES=FILE[CASE].strip().split('\\n')\n",
    "\n",
    "    global IDX\n",
    "    IDX=0\n",
    "\n",
    "    print(f'\\ninit test-case ({CASE+1}) answer: {RESULT[CASE].strip()}')\n",
    "    print('============================')\n",
    "#endregion"
   ]
  },
  {
   "cell_type": "code",
   "execution_count": null,
   "metadata": {},
   "outputs": [],
   "source": [
    "#open file\n",
    "with open('test.txt') as file:\n",
    "     lines=file.readlines()\n",
    "     line=file.readline()\n",
    "     file.close()"
   ]
  },
  {
   "cell_type": "code",
   "execution_count": null,
   "metadata": {},
   "outputs": [],
   "source": [
    "#이분탐색\n",
    "import bisect\n",
    "\n",
    "\n",
    "def binary_search_left(arr,x,low,high):\n",
    "    if low>high:\n",
    "        return low\n",
    "    \n",
    "    mid=(low+high)//2\n",
    "    if arr[mid]<x:\n",
    "        return binary_search_left(arr,x,mid+1,high)\n",
    "    else:\n",
    "        return binary_search_left(arr,x,low,mid-1)\n",
    "\n",
    "def binary_search_right(arr,x,low,high):\n",
    "    if low>high:\n",
    "        return low\n",
    "    \n",
    "    mid=(low+high)//2\n",
    "    if arr[mid]<=x:\n",
    "        return binary_search_right(arr,x,mid+1,high)\n",
    "    else:\n",
    "        return binary_search_right(arr,x,low,mid-1)    \n",
    "\n",
    "def binary_left(arr,x): # right 기준탐색\n",
    "    left, right = 0, len(arr)-1\n",
    "    while left <= right:\n",
    "        mid = (left + right) // 2\n",
    "        if arr[mid] < x:\n",
    "            left = mid + 1\n",
    "        else:\n",
    "            right = mid - 1\n",
    "    return left\n",
    "\n",
    "def binary_right(arr,x): # right 기준탐색\n",
    "    left, right = 0, len(arr)-1\n",
    "    while left <= right:\n",
    "        mid = (left + right) // 2\n",
    "        if arr[mid] <= x:\n",
    "            left = mid + 1\n",
    "        else:\n",
    "            right = mid - 1\n",
    "    return left\n",
    "\n",
    "\n",
    "a=[1,3,3,3,5]\n",
    "x=1\n",
    "\n",
    "print('left')\n",
    "print(bisect.bisect_left(a,x))\n",
    "print(binary_search_left(a,x,0,len(a)-1))\n",
    "print(binary_left(a,x))\n",
    "\n",
    "print('right')\n",
    "print(bisect.bisect_right(a,x))\n",
    "print(binary_search_right(a,x,0,len(a)-1))\n",
    "print(binary_right(a,x))"
   ]
  }
 ],
 "metadata": {
  "kernelspec": {
   "display_name": "Python 3",
   "language": "python",
   "name": "python3"
  },
  "language_info": {
   "codemirror_mode": {
    "name": "ipython",
    "version": 3
   },
   "file_extension": ".py",
   "mimetype": "text/x-python",
   "name": "python",
   "nbconvert_exporter": "python",
   "pygments_lexer": "ipython3",
   "version": "3.12.2"
  }
 },
 "nbformat": 4,
 "nbformat_minor": 2
}
