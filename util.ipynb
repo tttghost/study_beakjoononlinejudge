{
 "cells": [
  {
   "cell_type": "code",
   "execution_count": null,
   "metadata": {},
   "outputs": [],
   "source": [
    "# 프롬프트 메세지 제거용\n",
    "\n",
    "import sys\n",
    "input=sys.stdin.readline"
   ]
  },
  {
   "cell_type": "code",
   "execution_count": null,
   "metadata": {},
   "outputs": [],
   "source": [
    "# 셀메세지 지우기\n",
    "\n",
    "from IPython.display import clear_output\n",
    "import time\n",
    "\n",
    "i=3\n",
    "while i:\n",
    "    print(i)\n",
    "    i-=1\n",
    "    time.sleep(1)\n",
    "    clear_output(True)"
   ]
  },
  {
   "cell_type": "code",
   "execution_count": null,
   "metadata": {},
   "outputs": [],
   "source": [
    "#region test-case\n",
    "\n",
    "file='''\n",
    "\n",
    "test-case\n",
    "\n",
    "'''.strip().split('\\n')\n",
    "idx=0\n",
    "\n",
    "def input():\n",
    "    global idx\n",
    "    line=file[idx]\n",
    "    idx+=1\n",
    "    return line\n",
    "\n",
    "def initTestCase():\n",
    "    global idx\n",
    "    idx=0\n",
    "    print('init test-case')\n",
    "\n",
    "#endregion"
   ]
  }
 ],
 "metadata": {
  "kernelspec": {
   "display_name": "Python 3",
   "language": "python",
   "name": "python3"
  },
  "language_info": {
   "codemirror_mode": {
    "name": "ipython",
    "version": 3
   },
   "file_extension": ".py",
   "mimetype": "text/x-python",
   "name": "python",
   "nbconvert_exporter": "python",
   "pygments_lexer": "ipython3",
   "version": "3.12.2"
  }
 },
 "nbformat": 4,
 "nbformat_minor": 2
}
